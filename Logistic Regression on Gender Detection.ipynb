{
  "cells": [
    {
      "cell_type": "markdown",
      "source": [
        "## Loading data and defining functions"
      ],
      "metadata": {
        "id": "OyKn4kjzs8U0"
      },
      "id": "OyKn4kjzs8U0"
    },
    {
      "cell_type": "code",
      "execution_count": null,
      "id": "1c35ebc4",
      "metadata": {
        "id": "1c35ebc4"
      },
      "outputs": [],
      "source": [
        "%matplotlib inline\n",
        "from jax.config import config\n",
        "config.update(\"jax_enable_x64\", True) # for higher accuracy\n",
        "\n",
        "import jax\n",
        "import jax.numpy as jnp\n",
        "\n",
        "import pylab as plt\n",
        "import imageio\n",
        "import os\n",
        "import numpy as np\n",
        "# to install scikit-image: !pip install scikit-image\n",
        "from skimage.transform import rescale, resize, downscale_local_mean, rotate\n",
        "from skimage import exposure\n",
        "import pandas as pd"
      ]
    },
    {
      "cell_type": "code",
      "source": [
        "from jax.lib import xla_bridge\n",
        "# Check if ultilising GPU\n",
        "print(xla_bridge.get_backend().platform)\n",
        "\n",
        "# If on CPU do the following:\n",
        "# pip install --upgrade \"jax[cuda]\"\n",
        "# change runtime to GPU "
      ],
      "metadata": {
        "id": "d8kAzvCDmA0t"
      },
      "id": "d8kAzvCDmA0t",
      "execution_count": null,
      "outputs": []
    },
    {
      "cell_type": "code",
      "source": [
        "from google.colab import drive\n",
        "drive.mount('/content/drive')"
      ],
      "metadata": {
        "colab": {
          "base_uri": "https://localhost:8080/"
        },
        "id": "tuBv3oGrLW9S",
        "outputId": "0520403d-11fd-42b5-a23c-ea5c88b863ff"
      },
      "id": "tuBv3oGrLW9S",
      "execution_count": null,
      "outputs": [
        {
          "output_type": "stream",
          "name": "stdout",
          "text": [
            "Mounted at /content/drive\n"
          ]
        }
      ]
    },
    {
      "cell_type": "code",
      "execution_count": null,
      "id": "88604839",
      "metadata": {
        "id": "88604839"
      },
      "outputs": [],
      "source": [
        "path_csv  = \"/content/drive/MyDrive/DSA4212/Dataset/celeba.csv\"\n",
        "attribute = pd.read_csv(path_csv)"
      ]
    },
    {
      "cell_type": "code",
      "execution_count": null,
      "id": "218b9b5a",
      "metadata": {
        "id": "218b9b5a",
        "outputId": "3d6344ad-dad3-4848-f773-6f2af00e8860",
        "colab": {
          "base_uri": "https://localhost:8080/"
        }
      },
      "outputs": [
        {
          "output_type": "stream",
          "name": "stdout",
          "text": [
            "Number of images: 20000\n"
          ]
        }
      ],
      "source": [
        "#let us list all the files in the image directory\n",
        "#path = \"/Users/alex/Dataset/DSA4212_dataset/img_celeba_small/\"\n",
        "path = \"/content/drive/MyDrive/DSA4212/Dataset/img_celeba_small/\"\n",
        "all_img = [f for f in os.listdir(path) \n",
        "                 if os.path.isfile(os.path.join(path, f)) \n",
        "                 and f.endswith(\".jpg\")]\n",
        "\n",
        "# sort the images by alphabetical order \n",
        "# !!!! VERY IMPORTANT in order to be consistent with the labels contained in celeba.csv !!!!\n",
        "all_img.sort()\n",
        "nb_img = len(all_img)\n",
        "print(\"Number of images:\", nb_img)\n",
        "\n",
        "#let us keep only the relevant attributes\n",
        "attribute = attribute[:20000]"
      ]
    },
    {
      "cell_type": "code",
      "execution_count": null,
      "id": "4435f458",
      "metadata": {
        "id": "4435f458"
      },
      "outputs": [],
      "source": [
        "def preprocessing(n_img,pixel_value,contrast = False):\n",
        "    img_array = np.zeros((n_img*2, pixel_value, pixel_value))\n",
        "\n",
        "    for k in range(n_img):\n",
        "        im = imageio.imread(os.path.join(path, all_img[k])).astype(float)\n",
        "        #im = im[30:]  # removing top of image\n",
        "        im = im[20:]\n",
        "        im = im[0:-20]\n",
        "        im = np.delete(im, slice(0,20), 1)\n",
        "        im = np.delete(im, slice(138,158), 1)\n",
        "        im = resize(im, (pixel_value,pixel_value) )\n",
        "        im = np.mean(im, axis=2) # average the last channel\n",
        "        if contrast == True:\n",
        "            im = exposure.rescale_intensity(im)*255\n",
        "        img_array[k*2,:,:] = im\n",
        "        #im = np.fliplr(im) # mirror image\n",
        "        #img_array[k*2+1,:,:] = im\n",
        "\n",
        "    test_n_img = 5000\n",
        "    test_img_array = np.zeros((test_n_img, pixel_value, pixel_value))\n",
        "\n",
        "    for k in range(test_n_img):\n",
        "        im = imageio.imread(os.path.join(path, all_img[k])).astype(float)\n",
        "        im = im[20:]\n",
        "        im = im[0:-20]\n",
        "        im = np.delete(im, slice(0,20), 1)\n",
        "        im = np.delete(im, slice(138,158), 1)\n",
        "        im = resize(im, (pixel_value,pixel_value) )\n",
        "        im = np.mean(im, axis=2) # average the last channel\n",
        "        if contrast == True:\n",
        "            im = exposure.rescale_intensity(im)*255\n",
        "        test_img_array[k,:,:] = im\n",
        "\n",
        "    X_train = img_array[0:n_img].reshape(n_img,pixel_value*pixel_value)/255 # we need to choose from 2x the image set size\n",
        "    Y_train = jnp.array(attribute[\"Male\"][0:n_img])\n",
        "    #Y_train = jnp.append(Y_train, Y_train)\n",
        "    X_test = test_img_array.reshape(test_n_img,pixel_value*pixel_value)/255\n",
        "    Y_test = jnp.array(attribute[\"Male\"][15000:20000])\n",
        "    # parameter of the logistic regression\n",
        "    # let us generate it at random\n",
        "    return X_train,Y_train,X_test,Y_test\n",
        "\n",
        "def preprocessing_RGB(n_img,pixel_value):\n",
        "    img_array = np.zeros((n_img*2, pixel_value*3*pixel_value))\n",
        "\n",
        "    for k in range(n_img):\n",
        "        im = imageio.imread(os.path.join(path, all_img[k])).astype(float)\n",
        "        im = im[30:]  # removing top of image\n",
        "        im = resize(im, (pixel_value,pixel_value) )\n",
        "        im_mirror = np.fliplr(im)\n",
        "        im = im.flatten()\n",
        "        img_array[k*2,:] = im\n",
        "        im_mirror = im_mirror.flatten()\n",
        "        img_array[k*2+1,:] = im_mirror\n",
        "\n",
        "    test_n_img = 5000\n",
        "    test_img_array = np.zeros((test_n_img, pixel_value*3*pixel_value))\n",
        "\n",
        "    for k in range(test_n_img):\n",
        "        im = imageio.imread(os.path.join(path, all_img[k])).astype(float)\n",
        "        im = im[30:]  # removing top of image\n",
        "        im = resize(im, (pixel_value,pixel_value) )\n",
        "        im = im.flatten()\n",
        "        test_img_array[k,:] = im\n",
        "\n",
        "    X_train = img_array[0:n_img]/255\n",
        "    Y_train = jnp.array(attribute[\"Male\"][0:n_img])\n",
        "    X_test = test_img_array/255\n",
        "    Y_test = jnp.array(attribute[\"Male\"][15000:20000])\n",
        "        # parameter of the logistic regression\n",
        "    # let us generate it at random\n",
        "    return X_train,Y_train,X_test,Y_test\n",
        "\n",
        "def preprocessing_facepart(n_img,pixel_value):\n",
        "    hair_array = np.zeros((n_img*2, pixel_value, pixel_value))\n",
        "    eyes_array = np.zeros((n_img*2, pixel_value, pixel_value))\n",
        "    nose_array = np.zeros((n_img*2, pixel_value, pixel_value))\n",
        "    jaw_array = np.zeros((n_img*2, pixel_value, pixel_value))\n",
        "\n",
        "    for k in range(n_img):\n",
        "        im = imageio.imread(os.path.join(path, all_img[k])).astype(float)\n",
        "        im = np.mean(im, axis=2)\n",
        "        im = exposure.rescale_intensity(im)*255\n",
        "        im = im[30:] # removing top of image\n",
        "\n",
        "        im_hair = im[:60] # Cropping hair\n",
        "        im_hair = resize(im_hair, (pixel_value,pixel_value) )\n",
        "        hair_array[k*2,:,:] = im_hair\n",
        "        im_hair_mir = np.fliplr(im_hair) # mirror image\n",
        "        hair_array[k*2+1,:,:] = im_hair_mir\n",
        "\n",
        "        im_eyes = im[60:95] # Cropping eye\n",
        "        im_eyes = resize(im_eyes, (pixel_value,pixel_value) )\n",
        "        eyes_array[k*2,:,:] = im_eyes\n",
        "        im_eyes_mir = np.fliplr(im_eyes) # mirror image\n",
        "        eyes_array[k*2+1,:,:] = im_eyes_mir\n",
        "\n",
        "\n",
        "        im_nose = im[95:115] # Cropping nose\n",
        "        im_nose = resize(im_nose, (pixel_value,pixel_value) )\n",
        "        nose_array[k*2,:,:] = im_nose\n",
        "        im_nose_mir = np.fliplr(im_nose) # mirror image\n",
        "        nose_array[k*2+1,:,:] = im_nose_mir\n",
        "\n",
        "        im_jaw = im[115:165] # Cropping jaw\n",
        "        im_jaw = resize(im_jaw, (pixel_value,pixel_value) )\n",
        "        jaw_array[k*2,:,:] = im_jaw\n",
        "        im_jaw_mir = np.fliplr(im_jaw) # mirror image\n",
        "        jaw_array[k*2+1,:,:] = im_jaw_mir\n",
        "\n",
        "    test_n_img = 5000\n",
        "    test_hair_array = np.zeros((test_n_img, pixel_value, pixel_value))\n",
        "    test_eyes_array = np.zeros((test_n_img, pixel_value, pixel_value))\n",
        "    test_nose_array = np.zeros((test_n_img, pixel_value, pixel_value))\n",
        "    test_jaw_array = np.zeros((test_n_img, pixel_value, pixel_value))\n",
        "\n",
        "    for k in range(test_n_img):\n",
        "        im = imageio.imread(os.path.join(path, all_img[k])).astype(float)\n",
        "        im = np.mean(im, axis=2)\n",
        "        im = exposure.rescale_intensity(im)*255\n",
        "        im = im[30:] # removing top of image\n",
        "\n",
        "        im_hair = im[:60] # Cropping hair\n",
        "        im_hair = resize(im_hair, (pixel_value,pixel_value) )\n",
        "        test_hair_array[k,:,:] = im_hair\n",
        "\n",
        "\n",
        "        im_eyes = im[60:95] # Cropping eye\n",
        "        im_eyes = resize(im_eyes, (pixel_value,pixel_value) )\n",
        "        test_eyes_array[k,:,:] = im_eyes\n",
        "\n",
        "\n",
        "        im_nose = im[95:115] # Cropping nose\n",
        "        im_nose = resize(im_nose, (pixel_value,pixel_value) )\n",
        "        test_nose_array[k,:,:] = im_nose\n",
        "\n",
        "        im_jaw = im[115:165] # Cropping jaw\n",
        "        im_jaw = resize(im_jaw, (pixel_value,pixel_value) )\n",
        "        test_jaw_array[k,:,:] = im_jaw\n",
        "\n",
        "    X_train_hair = hair_array[0:n_img].reshape(n_img,pixel_value*pixel_value)/255\n",
        "    X_train_eyes = eyes_array[0:n_img].reshape(n_img,pixel_value*pixel_value)/255\n",
        "    X_train_nose = nose_array[0:n_img].reshape(n_img,pixel_value*pixel_value)/255\n",
        "    X_train_jaw = jaw_array[0:n_img].reshape(n_img,pixel_value*pixel_value)/255\n",
        "    Y_train = jnp.array(attribute[\"Male\"][0:n_img])\n",
        "\n",
        "    X_test_hair = test_hair_array.reshape(test_n_img,pixel_value*pixel_value)/255\n",
        "    X_test_eyes = test_eyes_array.reshape(test_n_img,pixel_value*pixel_value)/255\n",
        "    X_test_nose = test_nose_array.reshape(test_n_img,pixel_value*pixel_value)/255\n",
        "    X_test_jaw = test_jaw_array.reshape(test_n_img,pixel_value*pixel_value)/255\n",
        "    Y_test = jnp.array(attribute[\"Male\"][15000:20000])\n",
        "    \n",
        "    return X_train_hair,X_train_eyes,X_train_nose,X_train_jaw,Y_train,X_test_hair,X_test_eyes,X_test_nose,X_test_jaw,Y_test"
      ]
    },
    {
      "cell_type": "code",
      "execution_count": null,
      "id": "a9f104e2",
      "metadata": {
        "id": "a9f104e2"
      },
      "outputs": [],
      "source": [
        "X_train,Y_train,X_test,Y_test = preprocessing(1000,100)"
      ]
    },
    {
      "cell_type": "code",
      "execution_count": null,
      "id": "1df40eb5",
      "metadata": {
        "id": "1df40eb5"
      },
      "outputs": [],
      "source": [
        "beta_standard_dev = 1. / 100.\n",
        "beta_init = np.random.normal(0,beta_standard_dev,100*100)"
      ]
    },
    {
      "cell_type": "code",
      "execution_count": null,
      "id": "79f4683a",
      "metadata": {
        "id": "79f4683a"
      },
      "outputs": [],
      "source": [
        "# let us now define a function that can compute the error rate\n",
        "@jax.jit\n",
        "def compute_error_rate(beta, X, Y):\n",
        "    # compute predictions\n",
        "    pred_bool = prediction_batch(beta, X) > 0.5\n",
        "    \n",
        "    # convert to +1/-1 predictions\n",
        "    pred = 2*pred_bool - 1\n",
        "    \n",
        "    # return the error rate\n",
        "    return jnp.mean(Y == pred)\n",
        "\n",
        "def predict(beta, X):\n",
        "    pred_bool = prediction_batch(beta, X) > 0.5\n",
        "    \n",
        "    # convert to +1/-1 predictions\n",
        "    pred = 2*pred_bool - 1\n",
        "    return pred"
      ]
    },
    {
      "cell_type": "code",
      "execution_count": null,
      "id": "0fa9bdda",
      "metadata": {
        "id": "0fa9bdda"
      },
      "outputs": [],
      "source": [
        "def prediction(beta, x):\n",
        "    \"\"\"\n",
        "    desc:\n",
        "    =====\n",
        "    compute the probability that x is associated to a +1 label\n",
        "\n",
        "    args:\n",
        "    ====\n",
        "     x: vector of dimension 784\n",
        "     beta: vector of dimension 784 (logistic reg param)     \n",
        "    \"\"\"\n",
        "    proba = 1. / (1. + jnp.exp(-jnp.dot(x,beta)))\n",
        "    return proba\n",
        "\n",
        "# let us parallelize the function:\n",
        "# beta: no parallelization\n",
        "# x: parallelization along the axis 0\n",
        "prediction_batch = jax.vmap(prediction, in_axes=(None, 0))"
      ]
    },
    {
      "cell_type": "code",
      "execution_count": null,
      "id": "9745d275",
      "metadata": {
        "id": "9745d275",
        "colab": {
          "base_uri": "https://localhost:8080/",
          "height": 35
        },
        "outputId": "3aae91b3-670a-4fa1-c79f-db5b2b8c3fea"
      },
      "outputs": [
        {
          "output_type": "execute_result",
          "data": {
            "text/plain": [
              "'\\nx = X_train[0]\\ny = Y_train[0]\\nbeta=beta_init\\nloss_single(beta, x, y)\\n\\n\\n'"
            ],
            "application/vnd.google.colaboratory.intrinsic+json": {
              "type": "string"
            }
          },
          "metadata": {},
          "execution_count": 9
        }
      ],
      "source": [
        "def loss_single(beta, x, y):\n",
        "    \"\"\" default loss function \"\"\"\n",
        "    return jnp.log(1. + jnp.exp(-y*jnp.dot(x,beta)))\n",
        "\n",
        "def l1_loss_single(beta, x, y):\n",
        "    lamb = 0.1\n",
        "    return jnp.log(1. + jnp.exp(-y * jnp.dot(x,beta))) + lamb*jnp.linalg.norm(jnp.abs(beta),1)\n",
        "    \n",
        "def l2_loss_single(beta, x, y):\n",
        "    lamb = 0.1\n",
        "    return jnp.log(1. + jnp.exp(-y * jnp.dot(x,beta))) + lamb*jnp.linalg.norm(jnp.abs(beta),2)\n",
        "\n",
        "loss_batch = jax.vmap(loss_single, in_axes=(None, 0, 0))\n",
        "l1_loss_batch = jax.vmap(l1_loss_single, in_axes=(None, 0, 0))\n",
        "l2_loss_batch = jax.vmap(l2_loss_single, in_axes=(None, 0, 0))\n",
        "# let us test this\n",
        "\"\"\"\n",
        "x = X_train[0]\n",
        "y = Y_train[0]\n",
        "beta=beta_init\n",
        "loss_single(beta, x, y)\n",
        "\n",
        "\n",
        "\"\"\""
      ]
    },
    {
      "cell_type": "code",
      "execution_count": null,
      "id": "129ed94b",
      "metadata": {
        "id": "129ed94b"
      },
      "outputs": [],
      "source": [
        "@jax.jit\n",
        "def loss_LR(beta, X, Y):\n",
        "    \"\"\"\n",
        "    Logistic regression loss\n",
        "    \n",
        "    args:\n",
        "    ====\n",
        "     beta: LR parameter\n",
        "     X: array[:,:] of images\n",
        "     Y: array[:] of labels\n",
        "    \"\"\"\n",
        "    # compute all the individual losses\n",
        "    losses = loss_batch(beta, X, Y)\n",
        "    return jnp.mean(losses)\n",
        "\n",
        "def l1_loss_LR(beta, X, Y):\n",
        "    \"\"\"\n",
        "    Logistic regression loss\n",
        "    \n",
        "    args:\n",
        "    ====\n",
        "     beta: LR parameter\n",
        "     X: array[:,:] of images\n",
        "     Y: array[:] of labels\n",
        "    \"\"\"\n",
        "    # compute all the individual losses\n",
        "    losses = l1_loss_batch(beta, X, Y)\n",
        "    return jnp.mean(losses)\n",
        "    \n",
        "def l2_loss_LR(beta, X, Y):\n",
        "    \"\"\"\n",
        "    Logistic regression loss\n",
        "    \n",
        "    args:\n",
        "    ====\n",
        "     beta: LR parameter\n",
        "     X: array[:,:] of images\n",
        "     Y: array[:] of labels\n",
        "    \"\"\"\n",
        "    # compute all the individual losses\n",
        "    losses = l2_loss_batch(beta, X, Y)\n",
        "    return jnp.mean(losses)\n",
        "\n",
        "# compute derivates\n",
        "loss_LR_values_and_grad = jax.jit(jax.value_and_grad(loss_LR, argnums=0))\n",
        "l1_loss_LR_values_and_grad = jax.jit(jax.value_and_grad(l1_loss_LR, argnums=0))\n",
        "l2_loss_LR_values_and_grad = jax.jit(jax.value_and_grad(l2_loss_LR, argnums=0))"
      ]
    },
    {
      "cell_type": "code",
      "execution_count": null,
      "id": "b6c62e2f",
      "metadata": {
        "id": "b6c62e2f"
      },
      "outputs": [],
      "source": [
        "def train_SGD(beta_init,X_train,Y_train,X_test,Y_test,learning_rate_init = 0.01, regularization = 0, minibatch_size = 20, n_epoch = 50):\n",
        "    \"\"\"\n",
        "    desc:\n",
        "    ===\n",
        "    runs SGD with step decay\n",
        "    \n",
        "    returns:\n",
        "    1) Loss at the end of each epoch\n",
        "    2) Final validation accuracy\n",
        "    3) Predictions with the given test set\n",
        "    \"\"\"\n",
        "\n",
        "    N = len(X_train)  #10000, total number of images\n",
        "    img_indices = np.arange(N)\n",
        "    loss_history = []\n",
        "    loss_history_end_epoch = []\n",
        "    beta = np.copy(beta_init)\n",
        "    learning_rate = learning_rate_init\n",
        "\n",
        "    for epoch in range(n_epoch):\n",
        "        # go through all the minibatches, sequetially\n",
        "        n_minibatch = N // minibatch_size + 1\n",
        "        # randomize the batches\n",
        "        np.random.shuffle(img_indices)\n",
        "        \n",
        "        # Step Decay\n",
        "        if epoch % 5 == 0:\n",
        "            learning_rate/=2\n",
        "                    \n",
        "        all_loss_within_epoch = []\n",
        "        for k in range(n_minibatch):\n",
        "            # create the minibatch of examples\n",
        "            batch_indices = np.arange(k*minibatch_size, (k+1)*minibatch_size) % N\n",
        "            batch_indices = img_indices[batch_indices]\n",
        "            X_minibatch = X_train[batch_indices]\n",
        "            Y_minibatch = Y_train[batch_indices]\n",
        "\n",
        "            # compute the stochastic gradient\n",
        "            if regularization == 0:\n",
        "                val, grad = loss_LR_values_and_grad(beta, X_minibatch, Y_minibatch)\n",
        "            elif regularization == 1:\n",
        "                val, grad = l1_loss_LR_values_and_grad(beta, X_minibatch, Y_minibatch)\n",
        "            elif regularization == 2:\n",
        "                val, grad = l2_loss_LR_values_and_grad(beta, X_minibatch, Y_minibatch)\n",
        "\n",
        "            # do one step of SGD\n",
        "            beta = beta - learning_rate*grad\n",
        "            \n",
        "            # book-keeping\n",
        "            loss_history.append(val)\n",
        "            all_loss_within_epoch.append(val)\n",
        "\n",
        "        loss_history_end_epoch.append(np.mean(all_loss_within_epoch))\n",
        "        \n",
        "        if epoch % 2 == 0:\n",
        "            # let us compute the train/validation error rate\n",
        "            err_train = 100*compute_error_rate(beta, X_train, Y_train)\n",
        "            err_val= 100*compute_error_rate(beta, X_test, Y_test)        \n",
        "            print(f\"epoch:{epoch} \\t Loss:{val:2.3f} \\t error(train):{err_train:2.1f}% \\t error(val):{err_val:2.1f}%\")\n",
        "\n",
        "    err_val= 100*compute_error_rate(beta, X_test, Y_test)\n",
        "    prediction = predict(beta, X_test)\n",
        "    return loss_history_end_epoch, err_val, prediction"
      ]
    },
    {
      "cell_type": "markdown",
      "id": "65c65361",
      "metadata": {
        "id": "65c65361"
      },
      "source": [
        "## Varying Number of Training Samples"
      ]
    },
    {
      "cell_type": "code",
      "execution_count": null,
      "id": "66e7eb45",
      "metadata": {
        "id": "66e7eb45",
        "outputId": "c0e08c11-3d32-46c1-cc91-7e673f497595",
        "colab": {
          "base_uri": "https://localhost:8080/",
          "height": 1000
        }
      },
      "outputs": [
        {
          "output_type": "stream",
          "name": "stdout",
          "text": [
            "number of samples:  1000\n",
            "epoch:0 \t Loss:0.772 \t error(train):44.2% \t error(val):42.3%\n",
            "epoch:2 \t Loss:0.825 \t error(train):56.8% \t error(val):58.0%\n",
            "epoch:4 \t Loss:0.454 \t error(train):57.0% \t error(val):58.1%\n",
            "epoch:6 \t Loss:0.705 \t error(train):51.4% \t error(val):43.8%\n",
            "epoch:8 \t Loss:0.594 \t error(train):65.9% \t error(val):52.5%\n",
            "epoch:10 \t Loss:0.730 \t error(train):66.4% \t error(val):53.7%\n",
            "epoch:12 \t Loss:0.621 \t error(train):62.0% \t error(val):47.6%\n",
            "epoch:14 \t Loss:0.610 \t error(train):64.7% \t error(val):55.7%\n",
            "epoch:16 \t Loss:0.628 \t error(train):66.9% \t error(val):54.3%\n",
            "epoch:18 \t Loss:0.531 \t error(train):65.2% \t error(val):55.8%\n",
            "epoch:20 \t Loss:0.512 \t error(train):65.9% \t error(val):54.9%\n",
            "epoch:22 \t Loss:0.649 \t error(train):69.2% \t error(val):52.8%\n",
            "epoch:24 \t Loss:0.598 \t error(train):67.9% \t error(val):53.5%\n",
            "epoch:26 \t Loss:0.558 \t error(train):68.1% \t error(val):53.4%\n",
            "epoch:28 \t Loss:0.601 \t error(train):69.0% \t error(val):53.0%\n",
            "epoch:30 \t Loss:0.575 \t error(train):67.8% \t error(val):53.6%\n",
            "epoch:32 \t Loss:0.493 \t error(train):67.7% \t error(val):53.5%\n",
            "epoch:34 \t Loss:0.662 \t error(train):68.2% \t error(val):53.2%\n",
            "epoch:36 \t Loss:0.475 \t error(train):68.5% \t error(val):53.1%\n",
            "epoch:38 \t Loss:0.649 \t error(train):68.3% \t error(val):53.2%\n",
            "epoch:40 \t Loss:0.714 \t error(train):68.7% \t error(val):53.1%\n",
            "epoch:42 \t Loss:0.605 \t error(train):68.8% \t error(val):53.1%\n",
            "epoch:44 \t Loss:0.556 \t error(train):68.8% \t error(val):53.1%\n",
            "epoch:46 \t Loss:0.546 \t error(train):68.7% \t error(val):53.2%\n",
            "epoch:48 \t Loss:0.658 \t error(train):68.5% \t error(val):53.2%\n",
            "number of samples:  5000\n",
            "epoch:0 \t Loss:0.931 \t error(train):57.9% \t error(val):56.9%\n",
            "epoch:2 \t Loss:0.636 \t error(train):59.0% \t error(val):56.0%\n",
            "epoch:4 \t Loss:0.700 \t error(train):59.3% \t error(val):57.3%\n",
            "epoch:6 \t Loss:0.659 \t error(train):62.1% \t error(val):55.1%\n",
            "epoch:8 \t Loss:0.646 \t error(train):56.5% \t error(val):47.6%\n",
            "epoch:10 \t Loss:0.652 \t error(train):62.7% \t error(val):55.6%\n",
            "epoch:12 \t Loss:0.654 \t error(train):62.9% \t error(val):54.7%\n",
            "epoch:14 \t Loss:0.679 \t error(train):63.4% \t error(val):53.8%\n",
            "epoch:16 \t Loss:0.670 \t error(train):62.9% \t error(val):55.4%\n",
            "epoch:18 \t Loss:0.589 \t error(train):61.1% \t error(val):56.8%\n",
            "epoch:20 \t Loss:0.679 \t error(train):64.1% \t error(val):54.8%\n",
            "epoch:22 \t Loss:0.708 \t error(train):62.1% \t error(val):50.4%\n",
            "epoch:24 \t Loss:0.690 \t error(train):62.0% \t error(val):56.8%\n",
            "epoch:26 \t Loss:0.637 \t error(train):63.8% \t error(val):55.1%\n",
            "epoch:28 \t Loss:0.675 \t error(train):63.8% \t error(val):55.0%\n",
            "epoch:30 \t Loss:0.652 \t error(train):64.1% \t error(val):55.0%\n",
            "epoch:32 \t Loss:0.642 \t error(train):64.5% \t error(val):53.5%\n",
            "epoch:34 \t Loss:0.586 \t error(train):63.2% \t error(val):55.6%\n",
            "epoch:36 \t Loss:0.679 \t error(train):64.0% \t error(val):55.0%\n",
            "epoch:38 \t Loss:0.614 \t error(train):63.9% \t error(val):55.1%\n",
            "epoch:40 \t Loss:0.552 \t error(train):64.1% \t error(val):55.1%\n",
            "epoch:42 \t Loss:0.643 \t error(train):64.1% \t error(val):55.1%\n",
            "epoch:44 \t Loss:0.591 \t error(train):64.1% \t error(val):55.0%\n",
            "epoch:46 \t Loss:0.641 \t error(train):63.9% \t error(val):55.1%\n",
            "epoch:48 \t Loss:0.538 \t error(train):64.1% \t error(val):55.0%\n",
            "number of samples:  10000\n",
            "epoch:0 \t Loss:0.523 \t error(train):57.8% \t error(val):58.0%\n",
            "epoch:2 \t Loss:1.219 \t error(train):57.9% \t error(val):56.8%\n",
            "epoch:4 \t Loss:0.745 \t error(train):42.2% \t error(val):42.0%\n",
            "epoch:6 \t Loss:0.620 \t error(train):50.2% \t error(val):45.9%\n",
            "epoch:8 \t Loss:0.699 \t error(train):57.8% \t error(val):58.0%\n",
            "epoch:10 \t Loss:0.680 \t error(train):60.3% \t error(val):56.6%\n",
            "epoch:12 \t Loss:0.685 \t error(train):60.6% \t error(val):50.6%\n",
            "epoch:14 \t Loss:0.814 \t error(train):50.3% \t error(val):44.7%\n",
            "epoch:16 \t Loss:0.636 \t error(train):61.7% \t error(val):53.2%\n",
            "epoch:18 \t Loss:0.611 \t error(train):60.5% \t error(val):56.7%\n",
            "epoch:20 \t Loss:0.596 \t error(train):62.0% \t error(val):55.0%\n",
            "epoch:22 \t Loss:0.643 \t error(train):61.2% \t error(val):56.5%\n",
            "epoch:24 \t Loss:0.720 \t error(train):62.2% \t error(val):53.9%\n",
            "epoch:26 \t Loss:0.639 \t error(train):61.2% \t error(val):56.3%\n",
            "epoch:28 \t Loss:0.676 \t error(train):62.2% \t error(val):54.8%\n",
            "epoch:30 \t Loss:0.654 \t error(train):62.1% \t error(val):55.1%\n",
            "epoch:32 \t Loss:0.542 \t error(train):61.3% \t error(val):56.3%\n",
            "epoch:34 \t Loss:0.647 \t error(train):61.5% \t error(val):56.2%\n",
            "epoch:36 \t Loss:0.605 \t error(train):61.3% \t error(val):56.4%\n",
            "epoch:38 \t Loss:0.671 \t error(train):62.0% \t error(val):55.1%\n",
            "epoch:40 \t Loss:0.678 \t error(train):61.7% \t error(val):55.5%\n",
            "epoch:42 \t Loss:0.742 \t error(train):61.9% \t error(val):55.2%\n",
            "epoch:44 \t Loss:0.597 \t error(train):61.5% \t error(val):56.1%\n",
            "epoch:46 \t Loss:0.666 \t error(train):61.6% \t error(val):55.8%\n",
            "epoch:48 \t Loss:0.633 \t error(train):61.5% \t error(val):56.1%\n",
            "number of samples:  15000\n",
            "epoch:0 \t Loss:0.620 \t error(train):56.5% \t error(val):55.8%\n",
            "epoch:2 \t Loss:0.766 \t error(train):43.0% \t error(val):42.5%\n",
            "epoch:4 \t Loss:0.944 \t error(train):55.9% \t error(val):52.5%\n",
            "epoch:6 \t Loss:0.693 \t error(train):57.9% \t error(val):58.0%\n",
            "epoch:8 \t Loss:0.686 \t error(train):50.0% \t error(val):45.1%\n",
            "epoch:10 \t Loss:0.691 \t error(train):55.5% \t error(val):48.4%\n",
            "epoch:12 \t Loss:0.589 \t error(train):59.7% \t error(val):56.9%\n",
            "epoch:14 \t Loss:0.594 \t error(train):58.2% \t error(val):49.1%\n",
            "epoch:16 \t Loss:0.728 \t error(train):61.2% \t error(val):54.7%\n",
            "epoch:18 \t Loss:0.680 \t error(train):61.2% \t error(val):54.4%\n",
            "epoch:20 \t Loss:0.753 \t error(train):60.0% \t error(val):56.9%\n",
            "epoch:22 \t Loss:0.631 \t error(train):60.6% \t error(val):56.3%\n",
            "epoch:24 \t Loss:0.726 \t error(train):60.6% \t error(val):56.4%\n",
            "epoch:26 \t Loss:0.625 \t error(train):61.4% \t error(val):54.2%\n",
            "epoch:28 \t Loss:0.724 \t error(train):60.1% \t error(val):56.8%\n",
            "epoch:30 \t Loss:0.636 \t error(train):60.5% \t error(val):56.7%\n",
            "epoch:32 \t Loss:0.608 \t error(train):61.4% \t error(val):54.6%\n",
            "epoch:34 \t Loss:0.580 \t error(train):60.9% \t error(val):56.0%\n",
            "epoch:36 \t Loss:0.701 \t error(train):61.5% \t error(val):54.3%\n",
            "epoch:38 \t Loss:0.621 \t error(train):61.3% \t error(val):55.4%\n",
            "epoch:40 \t Loss:0.648 \t error(train):61.4% \t error(val):55.5%\n",
            "epoch:42 \t Loss:0.700 \t error(train):60.9% \t error(val):56.1%\n",
            "epoch:44 \t Loss:0.659 \t error(train):61.4% \t error(val):55.6%\n",
            "epoch:46 \t Loss:0.688 \t error(train):61.2% \t error(val):55.6%\n",
            "epoch:48 \t Loss:0.605 \t error(train):61.2% \t error(val):55.7%\n"
          ]
        },
        {
          "output_type": "execute_result",
          "data": {
            "text/plain": [
              "Text(0.5, 1.0, 'Number of Training Samples')"
            ]
          },
          "metadata": {},
          "execution_count": 27
        },
        {
          "output_type": "display_data",
          "data": {
            "text/plain": [
              "<Figure size 432x288 with 1 Axes>"
            ],
            "image/png": "[encoded data removed]"
          },
          "metadata": {
            "needs_background": "light"
          }
        }
      ],
      "source": [
        "lst = [1000,5000,10000,15000]\n",
        "err_lst = []\n",
        "loss_lst = []\n",
        "\n",
        "for num in lst:\n",
        "    print(\"number of samples: \",num)\n",
        "    X_train,Y_train,X_test,Y_test = preprocessing(num,100)\n",
        "    beta_init = np.random.normal(0,beta_standard_dev,100*100)\n",
        "    loss_hist, err_val, pred = train_SGD(beta_init,X_train,Y_train,X_test,Y_test)\n",
        "    err_lst.append(err_val)\n",
        "    plt.plot(loss_hist,\"-^\",label = f\"num_images:{num}\")\n",
        "\n",
        "plt.legend()\n",
        "plt.yscale(\"log\")\n",
        "plt.xlabel(\"Epochs\")\n",
        "plt.grid(True)\n",
        "plt.title(\"Number of Training Samples\")"
      ]
    },
    {
      "cell_type": "code",
      "source": [
        "# this block was ran using mirrored data\n",
        "# doesn't seem to be significant enough to bother with\n",
        "lst = [1000,5000,10000]\n",
        "err_lst = []\n",
        "loss_lst = []\n",
        "\n",
        "for num in lst:\n",
        "    print(\"number of samples: \",num)\n",
        "    X_train,Y_train,X_test,Y_test = preprocessing(num,100)\n",
        "    beta_init = np.random.normal(0,beta_standard_dev,100*100)\n",
        "    loss_hist, err_val, pred = train_SGD(beta_init,X_train,Y_train,X_test,Y_test)\n",
        "    err_lst.append(err_val)\n",
        "    plt.plot(loss_hist,\"-^\",label = f\"num_images:{num}\")\n",
        "\n",
        "plt.legend()\n",
        "plt.yscale(\"log\")\n",
        "plt.xlabel(\"Epochs\")\n",
        "plt.grid(True)\n",
        "plt.title(\"Number of Training Samples\")"
      ],
      "metadata": {
        "colab": {
          "base_uri": "https://localhost:8080/",
          "height": 1000
        },
        "id": "ThxrapFnpqAw",
        "outputId": "da628ecb-c4ae-47d9-b4a9-18508fbebc5b"
      },
      "id": "ThxrapFnpqAw",
      "execution_count": null,
      "outputs": [
        {
          "output_type": "stream",
          "name": "stdout",
          "text": [
            "number of samples:  1000\n",
            "epoch:0 \t Loss:2.241 \t error(train):43.4% \t error(val):42.0%\n",
            "epoch:2 \t Loss:0.578 \t error(train):56.8% \t error(val):58.0%\n",
            "epoch:4 \t Loss:0.838 \t error(train):43.8% \t error(val):42.0%\n",
            "epoch:6 \t Loss:0.720 \t error(train):60.5% \t error(val):54.2%\n",
            "epoch:8 \t Loss:0.578 \t error(train):60.8% \t error(val):54.9%\n",
            "epoch:10 \t Loss:0.644 \t error(train):64.7% \t error(val):52.8%\n",
            "epoch:12 \t Loss:0.624 \t error(train):65.2% \t error(val):50.1%\n",
            "epoch:14 \t Loss:0.606 \t error(train):59.6% \t error(val):56.4%\n",
            "epoch:16 \t Loss:0.599 \t error(train):66.5% \t error(val):51.5%\n",
            "epoch:18 \t Loss:0.697 \t error(train):62.3% \t error(val):48.1%\n",
            "epoch:20 \t Loss:0.596 \t error(train):67.0% \t error(val):51.6%\n",
            "epoch:22 \t Loss:0.586 \t error(train):64.0% \t error(val):53.5%\n",
            "epoch:24 \t Loss:0.610 \t error(train):65.5% \t error(val):52.5%\n",
            "epoch:26 \t Loss:0.636 \t error(train):65.1% \t error(val):52.6%\n",
            "epoch:28 \t Loss:0.691 \t error(train):66.5% \t error(val):52.4%\n",
            "epoch:30 \t Loss:0.626 \t error(train):66.3% \t error(val):52.2%\n",
            "epoch:32 \t Loss:0.621 \t error(train):66.4% \t error(val):52.2%\n",
            "epoch:34 \t Loss:0.646 \t error(train):66.4% \t error(val):52.2%\n",
            "epoch:36 \t Loss:0.631 \t error(train):67.5% \t error(val):51.7%\n",
            "epoch:38 \t Loss:0.653 \t error(train):66.3% \t error(val):52.3%\n",
            "epoch:40 \t Loss:0.603 \t error(train):66.0% \t error(val):52.5%\n",
            "epoch:42 \t Loss:0.582 \t error(train):66.0% \t error(val):52.6%\n",
            "epoch:44 \t Loss:0.655 \t error(train):66.4% \t error(val):52.4%\n",
            "epoch:46 \t Loss:0.701 \t error(train):66.3% \t error(val):52.4%\n",
            "epoch:48 \t Loss:0.619 \t error(train):66.3% \t error(val):52.5%\n",
            "number of samples:  5000\n",
            "epoch:0 \t Loss:1.946 \t error(train):58.3% \t error(val):58.0%\n",
            "epoch:2 \t Loss:1.148 \t error(train):58.3% \t error(val):58.0%\n",
            "epoch:4 \t Loss:1.324 \t error(train):58.4% \t error(val):57.9%\n",
            "epoch:6 \t Loss:0.685 \t error(train):60.6% \t error(val):55.0%\n",
            "epoch:8 \t Loss:0.623 \t error(train):58.5% \t error(val):58.0%\n",
            "epoch:10 \t Loss:0.566 \t error(train):58.5% \t error(val):58.0%\n",
            "epoch:12 \t Loss:0.813 \t error(train):61.8% \t error(val):54.8%\n",
            "epoch:14 \t Loss:0.686 \t error(train):58.8% \t error(val):58.0%\n",
            "epoch:16 \t Loss:0.573 \t error(train):59.4% \t error(val):57.8%\n",
            "epoch:18 \t Loss:0.674 \t error(train):62.4% \t error(val):55.4%\n",
            "epoch:20 \t Loss:0.705 \t error(train):62.1% \t error(val):51.8%\n",
            "epoch:22 \t Loss:0.692 \t error(train):61.2% \t error(val):56.4%\n",
            "epoch:24 \t Loss:0.649 \t error(train):62.7% \t error(val):53.4%\n",
            "epoch:26 \t Loss:0.552 \t error(train):61.0% \t error(val):56.7%\n",
            "epoch:28 \t Loss:0.633 \t error(train):61.8% \t error(val):51.3%\n",
            "epoch:30 \t Loss:0.640 \t error(train):61.8% \t error(val):56.4%\n",
            "epoch:32 \t Loss:0.665 \t error(train):60.4% \t error(val):57.2%\n",
            "epoch:34 \t Loss:0.717 \t error(train):62.2% \t error(val):56.1%\n",
            "epoch:36 \t Loss:0.608 \t error(train):61.8% \t error(val):56.5%\n",
            "epoch:38 \t Loss:0.688 \t error(train):61.9% \t error(val):56.3%\n",
            "epoch:40 \t Loss:0.607 \t error(train):61.8% \t error(val):56.4%\n",
            "epoch:42 \t Loss:0.666 \t error(train):62.2% \t error(val):56.1%\n",
            "epoch:44 \t Loss:0.589 \t error(train):61.7% \t error(val):56.4%\n",
            "epoch:46 \t Loss:0.736 \t error(train):61.9% \t error(val):56.2%\n",
            "epoch:48 \t Loss:0.639 \t error(train):61.9% \t error(val):56.3%\n",
            "number of samples:  10000\n",
            "epoch:0 \t Loss:0.817 \t error(train):43.3% \t error(val):42.4%\n",
            "epoch:2 \t Loss:1.228 \t error(train):57.8% \t error(val):58.0%\n",
            "epoch:4 \t Loss:0.760 \t error(train):43.7% \t error(val):42.5%\n",
            "epoch:6 \t Loss:0.924 \t error(train):44.3% \t error(val):42.6%\n",
            "epoch:8 \t Loss:0.716 \t error(train):59.5% \t error(val):55.6%\n",
            "epoch:10 \t Loss:0.645 \t error(train):59.7% \t error(val):52.9%\n",
            "epoch:12 \t Loss:0.633 \t error(train):60.4% \t error(val):52.0%\n",
            "epoch:14 \t Loss:0.681 \t error(train):59.4% \t error(val):57.2%\n",
            "epoch:16 \t Loss:0.724 \t error(train):59.7% \t error(val):56.6%\n",
            "epoch:18 \t Loss:0.662 \t error(train):60.6% \t error(val):55.0%\n",
            "epoch:20 \t Loss:0.674 \t error(train):60.9% \t error(val):53.7%\n",
            "epoch:22 \t Loss:0.660 \t error(train):59.2% \t error(val):57.3%\n",
            "epoch:24 \t Loss:0.669 \t error(train):59.7% \t error(val):57.1%\n",
            "epoch:26 \t Loss:0.620 \t error(train):60.6% \t error(val):55.6%\n",
            "epoch:28 \t Loss:0.618 \t error(train):60.7% \t error(val):55.3%\n",
            "epoch:30 \t Loss:0.629 \t error(train):60.0% \t error(val):56.5%\n",
            "epoch:32 \t Loss:0.643 \t error(train):60.5% \t error(val):56.1%\n",
            "epoch:34 \t Loss:0.648 \t error(train):61.2% \t error(val):54.8%\n",
            "epoch:36 \t Loss:0.677 \t error(train):60.5% \t error(val):56.1%\n",
            "epoch:38 \t Loss:0.646 \t error(train):59.9% \t error(val):56.7%\n",
            "epoch:40 \t Loss:0.687 \t error(train):60.5% \t error(val):55.8%\n",
            "epoch:42 \t Loss:0.661 \t error(train):60.4% \t error(val):56.2%\n",
            "epoch:44 \t Loss:0.700 \t error(train):60.6% \t error(val):55.7%\n",
            "epoch:46 \t Loss:0.676 \t error(train):60.5% \t error(val):55.9%\n",
            "epoch:48 \t Loss:0.648 \t error(train):60.5% \t error(val):56.1%\n"
          ]
        },
        {
          "output_type": "execute_result",
          "data": {
            "text/plain": [
              "Text(0.5, 1.0, 'Number of Training Samples')"
            ]
          },
          "metadata": {},
          "execution_count": 14
        },
        {
          "output_type": "display_data",
          "data": {
            "text/plain": [
              "<Figure size 432x288 with 1 Axes>"
            ],
            "image/png": "[encoded data removed]"
          },
          "metadata": {
            "needs_background": "light"
          }
        }
      ]
    },
    {
      "cell_type": "code",
      "source": [
        "print(sum(attribute[:15000][\"Male\"]==1))\n",
        "print(sum(attribute[:15000][\"Male\"]==-1))\n",
        "8431/20000"
      ],
      "metadata": {
        "colab": {
          "base_uri": "https://localhost:8080/"
        },
        "id": "lxY2AMMProK0",
        "outputId": "99a65343-3185-44a4-ac0e-b6fa2992944e"
      },
      "id": "lxY2AMMProK0",
      "execution_count": null,
      "outputs": [
        {
          "output_type": "stream",
          "name": "stdout",
          "text": [
            "6332\n",
            "11569\n"
          ]
        },
        {
          "output_type": "execute_result",
          "data": {
            "text/plain": [
              "0.42155"
            ]
          },
          "metadata": {},
          "execution_count": 15
        }
      ]
    },
    {
      "cell_type": "markdown",
      "id": "9b436ba6",
      "metadata": {
        "id": "9b436ba6"
      },
      "source": [
        "Explanation:\n",
        "\n",
        "As more training samples are added, the loss increases which is to be expected. \n",
        "    \n",
        "The test accuracy increases as more training samples are added, also expected. \n",
        "    \n",
        "It is worth noting that despite and additional 5000 images being added, the difference in accuracy and loss is insignificant. \n",
        "    \n",
        "Hence, conclude that 10k images is sufficient to train the model."
      ]
    },
    {
      "cell_type": "markdown",
      "id": "5c2ce565",
      "metadata": {
        "id": "5c2ce565"
      },
      "source": [
        "## Varying Image Resolution"
      ]
    },
    {
      "cell_type": "code",
      "execution_count": null,
      "id": "75d16687",
      "metadata": {
        "id": "75d16687",
        "outputId": "41cbea5a-b936-4d1b-b782-0655125ec765",
        "colab": {
          "base_uri": "https://localhost:8080/",
          "height": 1000
        }
      },
      "outputs": [
        {
          "output_type": "stream",
          "name": "stdout",
          "text": [
            "resolution:  25\n",
            "epoch:0 \t Loss:0.730 \t error(train):57.5% \t error(val):57.6%\n",
            "epoch:2 \t Loss:0.748 \t error(train):57.3% \t error(val):57.5%\n",
            "epoch:4 \t Loss:0.764 \t error(train):57.8% \t error(val):58.0%\n",
            "epoch:6 \t Loss:0.697 \t error(train):57.9% \t error(val):58.0%\n",
            "epoch:8 \t Loss:0.666 \t error(train):57.8% \t error(val):58.0%\n",
            "epoch:10 \t Loss:0.736 \t error(train):57.8% \t error(val):58.0%\n",
            "epoch:12 \t Loss:0.681 \t error(train):57.8% \t error(val):58.0%\n",
            "epoch:14 \t Loss:0.678 \t error(train):57.9% \t error(val):58.0%\n",
            "epoch:16 \t Loss:0.677 \t error(train):57.8% \t error(val):58.0%\n",
            "epoch:18 \t Loss:0.761 \t error(train):57.8% \t error(val):58.0%\n",
            "epoch:20 \t Loss:0.686 \t error(train):57.9% \t error(val):58.0%\n",
            "epoch:22 \t Loss:0.621 \t error(train):57.9% \t error(val):58.0%\n",
            "epoch:24 \t Loss:0.674 \t error(train):57.9% \t error(val):58.0%\n",
            "epoch:26 \t Loss:0.703 \t error(train):57.9% \t error(val):58.0%\n",
            "epoch:28 \t Loss:0.624 \t error(train):57.9% \t error(val):58.0%\n",
            "epoch:30 \t Loss:0.622 \t error(train):57.9% \t error(val):58.0%\n",
            "epoch:32 \t Loss:0.697 \t error(train):57.8% \t error(val):58.0%\n",
            "epoch:34 \t Loss:0.667 \t error(train):57.9% \t error(val):58.0%\n",
            "epoch:36 \t Loss:0.666 \t error(train):57.9% \t error(val):58.0%\n",
            "epoch:38 \t Loss:0.702 \t error(train):57.9% \t error(val):58.0%\n",
            "epoch:40 \t Loss:0.656 \t error(train):57.9% \t error(val):58.0%\n",
            "epoch:42 \t Loss:0.702 \t error(train):57.9% \t error(val):58.0%\n",
            "epoch:44 \t Loss:0.628 \t error(train):57.9% \t error(val):58.0%\n",
            "epoch:46 \t Loss:0.726 \t error(train):57.9% \t error(val):58.0%\n",
            "epoch:48 \t Loss:0.692 \t error(train):57.9% \t error(val):58.0%\n",
            "resolution:  50\n",
            "epoch:0 \t Loss:0.582 \t error(train):57.8% \t error(val):58.0%\n",
            "epoch:2 \t Loss:0.650 \t error(train):57.9% \t error(val):58.0%\n",
            "epoch:4 \t Loss:0.623 \t error(train):57.9% \t error(val):58.0%\n",
            "epoch:6 \t Loss:0.721 \t error(train):57.9% \t error(val):58.0%\n",
            "epoch:8 \t Loss:0.700 \t error(train):58.1% \t error(val):57.9%\n",
            "epoch:10 \t Loss:0.773 \t error(train):58.5% \t error(val):56.0%\n",
            "epoch:12 \t Loss:0.688 \t error(train):58.7% \t error(val):55.0%\n",
            "epoch:14 \t Loss:0.632 \t error(train):58.2% \t error(val):57.8%\n",
            "epoch:16 \t Loss:0.668 \t error(train):58.4% \t error(val):57.6%\n",
            "epoch:18 \t Loss:0.730 \t error(train):58.9% \t error(val):55.7%\n",
            "epoch:20 \t Loss:0.695 \t error(train):58.4% \t error(val):57.0%\n",
            "epoch:22 \t Loss:0.711 \t error(train):58.4% \t error(val):57.6%\n",
            "epoch:24 \t Loss:0.628 \t error(train):58.4% \t error(val):57.6%\n",
            "epoch:26 \t Loss:0.703 \t error(train):58.5% \t error(val):57.3%\n",
            "epoch:28 \t Loss:0.689 \t error(train):58.4% \t error(val):57.1%\n",
            "epoch:30 \t Loss:0.646 \t error(train):58.5% \t error(val):57.4%\n",
            "epoch:32 \t Loss:0.646 \t error(train):58.4% \t error(val):57.2%\n",
            "epoch:34 \t Loss:0.572 \t error(train):58.3% \t error(val):57.6%\n",
            "epoch:36 \t Loss:0.632 \t error(train):58.4% \t error(val):57.2%\n",
            "epoch:38 \t Loss:0.645 \t error(train):58.5% \t error(val):57.4%\n",
            "epoch:40 \t Loss:0.626 \t error(train):58.5% \t error(val):57.3%\n",
            "epoch:42 \t Loss:0.705 \t error(train):58.5% \t error(val):57.4%\n",
            "epoch:44 \t Loss:0.688 \t error(train):58.5% \t error(val):57.5%\n",
            "epoch:46 \t Loss:0.754 \t error(train):58.5% \t error(val):57.3%\n",
            "epoch:48 \t Loss:0.674 \t error(train):58.5% \t error(val):57.3%\n",
            "resolution:  100\n",
            "epoch:0 \t Loss:0.986 \t error(train):57.9% \t error(val):58.2%\n",
            "epoch:2 \t Loss:0.763 \t error(train):57.8% \t error(val):58.0%\n",
            "epoch:4 \t Loss:0.759 \t error(train):48.7% \t error(val):45.2%\n",
            "epoch:6 \t Loss:0.686 \t error(train):58.0% \t error(val):57.9%\n",
            "epoch:8 \t Loss:0.620 \t error(train):59.2% \t error(val):57.5%\n",
            "epoch:10 \t Loss:0.730 \t error(train):61.2% \t error(val):54.1%\n",
            "epoch:12 \t Loss:0.710 \t error(train):53.4% \t error(val):47.6%\n",
            "epoch:14 \t Loss:0.678 \t error(train):62.1% \t error(val):54.9%\n",
            "epoch:16 \t Loss:0.701 \t error(train):60.3% \t error(val):57.2%\n",
            "epoch:18 \t Loss:0.651 \t error(train):62.6% \t error(val):54.7%\n",
            "epoch:20 \t Loss:0.627 \t error(train):62.5% \t error(val):53.4%\n",
            "epoch:22 \t Loss:0.645 \t error(train):62.9% \t error(val):55.2%\n",
            "epoch:24 \t Loss:0.657 \t error(train):61.8% \t error(val):56.3%\n",
            "epoch:26 \t Loss:0.636 \t error(train):62.4% \t error(val):55.5%\n",
            "epoch:28 \t Loss:0.653 \t error(train):61.8% \t error(val):52.7%\n",
            "epoch:30 \t Loss:0.612 \t error(train):61.1% \t error(val):56.6%\n",
            "epoch:32 \t Loss:0.623 \t error(train):62.0% \t error(val):56.1%\n",
            "epoch:34 \t Loss:0.705 \t error(train):62.8% \t error(val):55.7%\n",
            "epoch:36 \t Loss:0.661 \t error(train):62.7% \t error(val):55.6%\n",
            "epoch:38 \t Loss:0.642 \t error(train):62.7% \t error(val):55.7%\n",
            "epoch:40 \t Loss:0.618 \t error(train):61.8% \t error(val):56.3%\n",
            "epoch:42 \t Loss:0.693 \t error(train):62.5% \t error(val):55.8%\n",
            "epoch:44 \t Loss:0.626 \t error(train):62.7% \t error(val):55.7%\n",
            "epoch:46 \t Loss:0.600 \t error(train):62.4% \t error(val):56.0%\n",
            "epoch:48 \t Loss:0.635 \t error(train):62.5% \t error(val):55.9%\n",
            "resolution:  150\n",
            "epoch:0 \t Loss:3.585 \t error(train):42.2% \t error(val):42.0%\n",
            "epoch:2 \t Loss:4.352 \t error(train):57.8% \t error(val):58.0%\n",
            "epoch:4 \t Loss:0.710 \t error(train):59.1% \t error(val):55.6%\n",
            "epoch:6 \t Loss:0.901 \t error(train):57.9% \t error(val):58.0%\n",
            "epoch:8 \t Loss:0.630 \t error(train):47.2% \t error(val):43.2%\n",
            "epoch:10 \t Loss:0.612 \t error(train):61.4% \t error(val):49.9%\n",
            "epoch:12 \t Loss:0.873 \t error(train):48.1% \t error(val):43.4%\n",
            "epoch:14 \t Loss:0.651 \t error(train):62.8% \t error(val):51.7%\n",
            "epoch:16 \t Loss:0.634 \t error(train):54.8% \t error(val):45.4%\n",
            "epoch:18 \t Loss:0.549 \t error(train):62.2% \t error(val):48.9%\n",
            "epoch:20 \t Loss:0.661 \t error(train):64.9% \t error(val):55.4%\n",
            "epoch:22 \t Loss:0.588 \t error(train):64.9% \t error(val):52.9%\n",
            "epoch:24 \t Loss:0.586 \t error(train):64.9% \t error(val):54.9%\n",
            "epoch:26 \t Loss:0.675 \t error(train):65.0% \t error(val):55.0%\n",
            "epoch:28 \t Loss:0.627 \t error(train):65.3% \t error(val):54.5%\n",
            "epoch:30 \t Loss:0.624 \t error(train):64.8% \t error(val):55.3%\n",
            "epoch:32 \t Loss:0.606 \t error(train):64.6% \t error(val):51.4%\n",
            "epoch:34 \t Loss:0.666 \t error(train):65.3% \t error(val):54.8%\n",
            "epoch:36 \t Loss:0.549 \t error(train):65.5% \t error(val):55.1%\n",
            "epoch:38 \t Loss:0.675 \t error(train):65.3% \t error(val):55.3%\n",
            "epoch:40 \t Loss:0.665 \t error(train):65.4% \t error(val):55.3%\n",
            "epoch:42 \t Loss:0.525 \t error(train):64.4% \t error(val):55.4%\n",
            "epoch:44 \t Loss:0.739 \t error(train):65.1% \t error(val):55.3%\n",
            "epoch:46 \t Loss:0.599 \t error(train):65.4% \t error(val):55.1%\n",
            "epoch:48 \t Loss:0.634 \t error(train):65.5% \t error(val):55.0%\n"
          ]
        },
        {
          "output_type": "execute_result",
          "data": {
            "text/plain": [
              "Text(0.5, 1.0, 'Resolution of Training Samples')"
            ]
          },
          "metadata": {},
          "execution_count": 28
        },
        {
          "output_type": "display_data",
          "data": {
            "text/plain": [
              "<Figure size 432x288 with 1 Axes>"
            ],
            "image/png": "[encoded data removed]"
          },
          "metadata": {
            "needs_background": "light"
          }
        }
      ],
      "source": [
        "lst = [25,50,100,150]\n",
        "err_lst = []\n",
        "loss_lst = []\n",
        "\n",
        "for res in lst:\n",
        "    print(\"resolution: \",res)\n",
        "    X_train,Y_train,X_test,Y_test = preprocessing(10000,res)\n",
        "    beta_standard_dev = 1. / res\n",
        "    beta_init = np.random.normal(0,beta_standard_dev,res*res)\n",
        "    loss_hist, err_val, pred = train_SGD(beta_init,X_train,Y_train,X_test,Y_test)\n",
        "    err_lst.append(err_val)\n",
        "    plt.plot(loss_hist,\"-^\",label = f\"resolution:{res}\")\n",
        "    \n",
        "plt.legend()\n",
        "plt.yscale(\"log\")\n",
        "plt.xlabel(\"Epochs\")\n",
        "plt.grid(True)\n",
        "plt.title(\"Resolution of Training Samples\")"
      ]
    },
    {
      "cell_type": "markdown",
      "id": "8da5c732",
      "metadata": {
        "id": "8da5c732"
      },
      "source": [
        "Explanation:\n",
        "\n",
        "As the resolution increased, the graphs shows that it took longer to converged. Aside from that issue, there is considerable overfitting with higher resolutions, as seen by the training accuracy increasing and test accuracy decreasing.\n",
        "\n",
        "To prevent overfitting, we will attempt to increase the learning rate of the samples with resolution 100 and 150 as an experiment."
      ]
    },
    {
      "cell_type": "code",
      "execution_count": null,
      "id": "d1e86d1a",
      "metadata": {
        "id": "d1e86d1a",
        "outputId": "90072778-d7b5-42c3-a2ea-7a438b7921c4"
      },
      "outputs": [
        {
          "name": "stdout",
          "output_type": "stream",
          "text": [
            "resolution:  25\n",
            "epoch:0 \t Loss:0.650 \t error(train):57.7% \t error(val):57.8%\n",
            "epoch:2 \t Loss:0.659 \t error(train):57.7% \t error(val):57.5%\n",
            "epoch:4 \t Loss:0.668 \t error(train):57.8% \t error(val):58.0%\n",
            "epoch:6 \t Loss:0.700 \t error(train):57.3% \t error(val):57.0%\n",
            "epoch:8 \t Loss:0.759 \t error(train):57.3% \t error(val):57.2%\n",
            "epoch:10 \t Loss:0.725 \t error(train):57.9% \t error(val):57.5%\n",
            "epoch:12 \t Loss:0.722 \t error(train):57.8% \t error(val):58.0%\n",
            "epoch:14 \t Loss:0.744 \t error(train):57.8% \t error(val):58.0%\n",
            "epoch:16 \t Loss:0.719 \t error(train):57.8% \t error(val):57.9%\n",
            "epoch:18 \t Loss:0.651 \t error(train):57.8% \t error(val):58.0%\n",
            "epoch:20 \t Loss:0.672 \t error(train):57.8% \t error(val):58.0%\n",
            "epoch:22 \t Loss:0.676 \t error(train):57.9% \t error(val):58.0%\n",
            "epoch:24 \t Loss:0.676 \t error(train):57.8% \t error(val):58.0%\n",
            "epoch:26 \t Loss:0.647 \t error(train):57.8% \t error(val):58.0%\n",
            "epoch:28 \t Loss:0.667 \t error(train):57.8% \t error(val):58.0%\n",
            "epoch:30 \t Loss:0.721 \t error(train):57.8% \t error(val):58.0%\n",
            "epoch:32 \t Loss:0.671 \t error(train):57.8% \t error(val):58.1%\n",
            "epoch:34 \t Loss:0.725 \t error(train):57.8% \t error(val):58.1%\n",
            "epoch:36 \t Loss:0.669 \t error(train):57.8% \t error(val):58.1%\n",
            "epoch:38 \t Loss:0.696 \t error(train):57.8% \t error(val):58.0%\n",
            "epoch:40 \t Loss:0.672 \t error(train):57.8% \t error(val):58.0%\n",
            "epoch:42 \t Loss:0.639 \t error(train):57.8% \t error(val):58.0%\n",
            "epoch:44 \t Loss:0.670 \t error(train):57.8% \t error(val):58.0%\n",
            "epoch:46 \t Loss:0.682 \t error(train):57.8% \t error(val):58.0%\n",
            "epoch:48 \t Loss:0.683 \t error(train):57.8% \t error(val):58.0%\n",
            "resolution:  50\n",
            "epoch:0 \t Loss:0.673 \t error(train):57.8% \t error(val):57.7%\n",
            "epoch:2 \t Loss:0.805 \t error(train):57.9% \t error(val):57.3%\n",
            "epoch:4 \t Loss:0.681 \t error(train):57.9% \t error(val):58.1%\n",
            "epoch:6 \t Loss:0.649 \t error(train):58.1% \t error(val):57.9%\n",
            "epoch:8 \t Loss:0.620 \t error(train):57.9% \t error(val):58.1%\n",
            "epoch:10 \t Loss:0.685 \t error(train):58.5% \t error(val):57.6%\n",
            "epoch:12 \t Loss:0.666 \t error(train):58.2% \t error(val):57.7%\n",
            "epoch:14 \t Loss:0.626 \t error(train):58.5% \t error(val):57.6%\n",
            "epoch:16 \t Loss:0.708 \t error(train):58.9% \t error(val):56.2%\n",
            "epoch:18 \t Loss:0.718 \t error(train):59.2% \t error(val):55.8%\n",
            "epoch:20 \t Loss:0.626 \t error(train):58.1% \t error(val):57.8%\n",
            "epoch:22 \t Loss:0.719 \t error(train):58.7% \t error(val):57.1%\n",
            "epoch:24 \t Loss:0.707 \t error(train):58.7% \t error(val):57.1%\n",
            "epoch:26 \t Loss:0.698 \t error(train):58.7% \t error(val):57.1%\n",
            "epoch:28 \t Loss:0.665 \t error(train):58.7% \t error(val):57.3%\n",
            "epoch:30 \t Loss:0.677 \t error(train):58.6% \t error(val):57.6%\n",
            "epoch:32 \t Loss:0.625 \t error(train):58.6% \t error(val):57.5%\n",
            "epoch:34 \t Loss:0.652 \t error(train):58.5% \t error(val):57.7%\n",
            "epoch:36 \t Loss:0.669 \t error(train):58.7% \t error(val):57.2%\n",
            "epoch:38 \t Loss:0.689 \t error(train):58.7% \t error(val):57.4%\n",
            "epoch:40 \t Loss:0.653 \t error(train):58.6% \t error(val):57.6%\n",
            "epoch:42 \t Loss:0.688 \t error(train):58.7% \t error(val):57.4%\n",
            "epoch:44 \t Loss:0.682 \t error(train):58.7% \t error(val):57.4%\n",
            "epoch:46 \t Loss:0.717 \t error(train):58.7% \t error(val):57.5%\n",
            "epoch:48 \t Loss:0.606 \t error(train):58.7% \t error(val):57.5%\n",
            "resolution:  100\n",
            "epoch:0 \t Loss:52.011 \t error(train):42.2% \t error(val):42.0%\n",
            "epoch:2 \t Loss:43.581 \t error(train):57.5% \t error(val):56.7%\n",
            "epoch:4 \t Loss:5.175 \t error(train):42.2% \t error(val):42.0%\n",
            "epoch:6 \t Loss:11.843 \t error(train):43.7% \t error(val):42.2%\n",
            "epoch:8 \t Loss:3.005 \t error(train):59.5% \t error(val):52.1%\n",
            "epoch:10 \t Loss:4.192 \t error(train):57.9% \t error(val):58.0%\n",
            "epoch:12 \t Loss:1.853 \t error(train):59.0% \t error(val):57.6%\n",
            "epoch:14 \t Loss:4.449 \t error(train):42.8% \t error(val):42.2%\n",
            "epoch:16 \t Loss:1.357 \t error(train):60.7% \t error(val):48.4%\n",
            "epoch:18 \t Loss:3.108 \t error(train):64.3% \t error(val):51.2%\n",
            "epoch:20 \t Loss:1.531 \t error(train):65.2% \t error(val):51.8%\n",
            "epoch:22 \t Loss:0.808 \t error(train):65.9% \t error(val):54.7%\n",
            "epoch:24 \t Loss:2.419 \t error(train):66.0% \t error(val):50.7%\n",
            "epoch:26 \t Loss:1.061 \t error(train):66.1% \t error(val):50.7%\n",
            "epoch:28 \t Loss:0.506 \t error(train):66.7% \t error(val):51.0%\n",
            "epoch:30 \t Loss:0.443 \t error(train):67.0% \t error(val):53.7%\n",
            "epoch:32 \t Loss:0.576 \t error(train):61.6% \t error(val):48.0%\n",
            "epoch:34 \t Loss:0.446 \t error(train):67.8% \t error(val):52.3%\n",
            "epoch:36 \t Loss:0.936 \t error(train):67.7% \t error(val):51.6%\n",
            "epoch:38 \t Loss:0.857 \t error(train):67.8% \t error(val):52.7%\n",
            "epoch:40 \t Loss:0.831 \t error(train):67.2% \t error(val):50.9%\n",
            "epoch:42 \t Loss:0.593 \t error(train):67.3% \t error(val):51.0%\n",
            "epoch:44 \t Loss:0.295 \t error(train):67.3% \t error(val):51.1%\n",
            "epoch:46 \t Loss:0.518 \t error(train):67.9% \t error(val):52.0%\n",
            "epoch:48 \t Loss:0.575 \t error(train):67.8% \t error(val):52.3%\n",
            "resolution:  150\n",
            "epoch:0 \t Loss:66.010 \t error(train):57.4% \t error(val):56.0%\n",
            "epoch:2 \t Loss:15.976 \t error(train):42.2% \t error(val):42.0%\n",
            "epoch:4 \t Loss:40.166 \t error(train):42.2% \t error(val):42.0%\n",
            "epoch:6 \t Loss:7.471 \t error(train):59.3% \t error(val):53.1%\n",
            "epoch:8 \t Loss:50.801 \t error(train):58.1% \t error(val):57.9%\n",
            "epoch:10 \t Loss:17.537 \t error(train):45.0% \t error(val):42.9%\n",
            "epoch:12 \t Loss:1.521 \t error(train):62.4% \t error(val):53.8%\n",
            "epoch:14 \t Loss:7.047 \t error(train):58.1% \t error(val):58.0%\n",
            "epoch:16 \t Loss:2.712 \t error(train):60.5% \t error(val):57.3%\n",
            "epoch:18 \t Loss:6.984 \t error(train):62.2% \t error(val):48.9%\n",
            "epoch:20 \t Loss:2.538 \t error(train):66.0% \t error(val):53.9%\n",
            "epoch:22 \t Loss:4.194 \t error(train):62.7% \t error(val):56.6%\n",
            "epoch:24 \t Loss:1.314 \t error(train):64.0% \t error(val):49.5%\n",
            "epoch:26 \t Loss:1.036 \t error(train):67.3% \t error(val):51.8%\n",
            "epoch:28 \t Loss:1.096 \t error(train):67.6% \t error(val):53.2%\n",
            "epoch:30 \t Loss:1.500 \t error(train):68.0% \t error(val):53.0%\n",
            "epoch:32 \t Loss:1.117 \t error(train):67.3% \t error(val):50.5%\n",
            "epoch:34 \t Loss:0.751 \t error(train):68.0% \t error(val):52.6%\n",
            "epoch:36 \t Loss:2.303 \t error(train):68.1% \t error(val):52.1%\n",
            "epoch:38 \t Loss:0.938 \t error(train):67.9% \t error(val):50.6%\n",
            "epoch:40 \t Loss:0.545 \t error(train):68.0% \t error(val):51.2%\n",
            "epoch:42 \t Loss:0.414 \t error(train):68.2% \t error(val):52.5%\n",
            "epoch:44 \t Loss:1.663 \t error(train):68.5% \t error(val):53.1%\n",
            "epoch:46 \t Loss:0.920 \t error(train):68.0% \t error(val):50.7%\n",
            "epoch:48 \t Loss:0.647 \t error(train):68.2% \t error(val):51.5%\n"
          ]
        },
        {
          "data": {
            "text/plain": [
              "Text(0.5, 1.0, 'Resolution of Training Samples')"
            ]
          },
          "execution_count": 28,
          "metadata": {},
          "output_type": "execute_result"
        },
        {
          "data": {
            "image/png": "[encoded data removed]",
            "text/plain": [
              "<Figure size 432x288 with 1 Axes>"
            ]
          },
          "metadata": {
            "needs_background": "light"
          },
          "output_type": "display_data"
        }
      ],
      "source": [
        "lst = [25,50,75,100,125,150]\n",
        "err_lst = []\n",
        "loss_lst = []\n",
        "for res in lst:\n",
        "    if res == 100 or res == 150:\n",
        "        learning_rate = 0.2\n",
        "    else:\n",
        "        learning_rate = 0.01\n",
        "    print(\"resolution: \",res)\n",
        "    X_train,Y_train,X_test,Y_test = preprocessing(10000,res)\n",
        "    beta_standard_dev = 1. / res\n",
        "    beta_init = np.random.normal(0,beta_standard_dev,res*res)\n",
        "    loss_hist, err_val, pred = train_SGD(beta_init,X_train,Y_train,X_test,Y_test,learning_rate_init = learning_rate)\n",
        "    err_lst.append(err_val)\n",
        "    plt.plot(loss_hist,\"-^\",label = f\"resolution:{res}\")\n",
        "plt.legend()\n",
        "plt.yscale(\"log\")\n",
        "plt.xlabel(\"Epochs\")\n",
        "plt.grid(True)\n",
        "plt.title(\"Resolution of Training Samples\")"
      ]
    },
    {
      "cell_type": "markdown",
      "id": "a92685bc",
      "metadata": {
        "id": "a92685bc"
      },
      "source": [
        "Explanation:\n",
        "\n",
        "Once again, we see that despite increasing learning rate, it did not stop overfitting. Hence, we will go with a 50 by 50 resolution to strike a balance between information loss and overfitting."
      ]
    },
    {
      "cell_type": "markdown",
      "id": "9943f913",
      "metadata": {
        "id": "9943f913"
      },
      "source": [
        "## Coloured vs Grayscale"
      ]
    },
    {
      "cell_type": "code",
      "execution_count": null,
      "id": "d80e4be5",
      "metadata": {
        "scrolled": true,
        "id": "d80e4be5",
        "outputId": "3dd43c03-3703-4863-8ba2-a53172c0684f",
        "colab": {
          "base_uri": "https://localhost:8080/",
          "height": 1000
        }
      },
      "outputs": [
        {
          "output_type": "stream",
          "name": "stdout",
          "text": [
            "epoch:0 \t Loss:0.747 \t error(train):55.3% \t error(val):54.9%\n",
            "epoch:2 \t Loss:0.699 \t error(train):57.9% \t error(val):56.8%\n",
            "epoch:4 \t Loss:0.761 \t error(train):58.0% \t error(val):58.0%\n",
            "epoch:6 \t Loss:0.783 \t error(train):58.6% \t error(val):56.6%\n",
            "epoch:8 \t Loss:0.660 \t error(train):58.8% \t error(val):55.9%\n",
            "epoch:10 \t Loss:0.664 \t error(train):57.6% \t error(val):52.1%\n",
            "epoch:12 \t Loss:0.652 \t error(train):58.3% \t error(val):57.8%\n",
            "epoch:14 \t Loss:0.623 \t error(train):58.3% \t error(val):57.5%\n",
            "epoch:16 \t Loss:0.704 \t error(train):58.9% \t error(val):57.2%\n",
            "epoch:18 \t Loss:0.644 \t error(train):58.4% \t error(val):57.6%\n",
            "epoch:20 \t Loss:0.639 \t error(train):58.5% \t error(val):57.5%\n",
            "epoch:22 \t Loss:0.646 \t error(train):58.5% \t error(val):57.5%\n",
            "epoch:24 \t Loss:0.646 \t error(train):58.1% \t error(val):58.1%\n",
            "epoch:26 \t Loss:0.723 \t error(train):58.5% \t error(val):57.5%\n",
            "epoch:28 \t Loss:0.604 \t error(train):59.0% \t error(val):56.9%\n",
            "epoch:30 \t Loss:0.711 \t error(train):58.9% \t error(val):57.4%\n",
            "epoch:32 \t Loss:0.692 \t error(train):59.0% \t error(val):57.3%\n",
            "epoch:34 \t Loss:0.772 \t error(train):58.6% \t error(val):57.4%\n",
            "epoch:36 \t Loss:0.634 \t error(train):58.8% \t error(val):57.4%\n",
            "epoch:38 \t Loss:0.620 \t error(train):58.9% \t error(val):57.4%\n",
            "epoch:40 \t Loss:0.692 \t error(train):58.6% \t error(val):57.4%\n",
            "epoch:42 \t Loss:0.629 \t error(train):58.9% \t error(val):57.3%\n",
            "epoch:44 \t Loss:0.636 \t error(train):58.6% \t error(val):57.4%\n",
            "epoch:46 \t Loss:0.709 \t error(train):58.7% \t error(val):57.4%\n",
            "epoch:48 \t Loss:0.639 \t error(train):58.7% \t error(val):57.4%\n",
            "epoch:0 \t Loss:1.157 \t error(train):57.8% \t error(val):58.0%\n",
            "epoch:2 \t Loss:0.758 \t error(train):58.0% \t error(val):57.7%\n",
            "epoch:4 \t Loss:0.799 \t error(train):44.4% \t error(val):42.8%\n",
            "epoch:6 \t Loss:0.645 \t error(train):58.1% \t error(val):58.0%\n",
            "epoch:8 \t Loss:0.813 \t error(train):55.5% \t error(val):49.1%\n",
            "epoch:10 \t Loss:0.687 \t error(train):59.8% \t error(val):56.1%\n",
            "epoch:12 \t Loss:0.615 \t error(train):59.1% \t error(val):57.7%\n",
            "epoch:14 \t Loss:0.628 \t error(train):59.4% \t error(val):57.3%\n",
            "epoch:16 \t Loss:0.676 \t error(train):59.6% \t error(val):52.7%\n",
            "epoch:18 \t Loss:0.738 \t error(train):60.3% \t error(val):55.8%\n",
            "epoch:20 \t Loss:0.626 \t error(train):60.1% \t error(val):55.6%\n",
            "epoch:22 \t Loss:0.652 \t error(train):60.8% \t error(val):55.0%\n",
            "epoch:24 \t Loss:0.618 \t error(train):60.7% \t error(val):55.4%\n",
            "epoch:26 \t Loss:0.661 \t error(train):60.5% \t error(val):55.3%\n",
            "epoch:28 \t Loss:0.715 \t error(train):60.5% \t error(val):55.4%\n",
            "epoch:30 \t Loss:0.740 \t error(train):60.8% \t error(val):55.0%\n",
            "epoch:32 \t Loss:0.620 \t error(train):60.3% \t error(val):56.0%\n",
            "epoch:34 \t Loss:0.665 \t error(train):60.4% \t error(val):56.3%\n",
            "epoch:36 \t Loss:0.608 \t error(train):60.3% \t error(val):56.2%\n",
            "epoch:38 \t Loss:0.649 \t error(train):60.5% \t error(val):55.8%\n",
            "epoch:40 \t Loss:0.653 \t error(train):60.3% \t error(val):56.0%\n",
            "epoch:42 \t Loss:0.629 \t error(train):60.3% \t error(val):55.9%\n",
            "epoch:44 \t Loss:0.731 \t error(train):60.3% \t error(val):56.1%\n",
            "epoch:46 \t Loss:0.637 \t error(train):60.4% \t error(val):56.1%\n",
            "epoch:48 \t Loss:0.606 \t error(train):60.5% \t error(val):55.8%\n"
          ]
        },
        {
          "output_type": "execute_result",
          "data": {
            "text/plain": [
              "Text(0.5, 1.0, 'RGB vs Grayscale')"
            ]
          },
          "metadata": {},
          "execution_count": 29
        },
        {
          "output_type": "display_data",
          "data": {
            "text/plain": [
              "<Figure size 432x288 with 1 Axes>"
            ],
            "image/png": "[encoded data removed]"
          },
          "metadata": {
            "needs_background": "light"
          }
        }
      ],
      "source": [
        "res = 50\n",
        "size = 10000\n",
        "err_lst = []\n",
        "beta_standard_dev = 1. / res\n",
        "beta_init = np.random.normal(0,beta_standard_dev,res*res)\n",
        "X_train,Y_train,X_test,Y_test = preprocessing(size,res)\n",
        "loss_hist, err_val, pred = train_SGD(beta_init,X_train,Y_train,X_test,Y_test)\n",
        "plt.plot(loss_hist,\"-^\",label = \"Type: Grayscale\")\n",
        "err_lst.append(err_val)\n",
        "\n",
        "beta_init = np.random.normal(0,beta_standard_dev,res*3*res)\n",
        "X_train,Y_train,X_test,Y_test = preprocessing_RGB(size,res)\n",
        "loss_hist, err_val, pred = train_SGD(beta_init,X_train,Y_train,X_test,Y_test)\n",
        "plt.plot(loss_hist,\"-^\",label = \"Type: RGB\")\n",
        "err_lst.append(err_val)\n",
        "plt.legend()\n",
        "plt.yscale(\"log\")\n",
        "plt.xlabel(\"Epochs\")\n",
        "plt.grid(True)\n",
        "plt.title(\"RGB vs Grayscale\")"
      ]
    },
    {
      "cell_type": "markdown",
      "id": "2722958b",
      "metadata": {
        "id": "2722958b"
      },
      "source": [
        "Explanation:\n",
        "\n",
        "The increased number of features caused the model to overfit, similar to the increase in dimensions. The model did not improve despite adding RGB hence, we conclude that the grayscale image will suffice in model prediction."
      ]
    },
    {
      "cell_type": "markdown",
      "id": "ddf7f168",
      "metadata": {
        "id": "ddf7f168"
      },
      "source": [
        "## Adjusting Contrast"
      ]
    },
    {
      "cell_type": "code",
      "execution_count": null,
      "id": "3aabd23b",
      "metadata": {
        "scrolled": true,
        "id": "3aabd23b",
        "outputId": "e9c6f481-a44f-46bc-ebd2-382d59bf6121",
        "colab": {
          "base_uri": "https://localhost:8080/",
          "height": 1000
        }
      },
      "outputs": [
        {
          "output_type": "stream",
          "name": "stdout",
          "text": [
            "epoch:0 \t Loss:0.719 \t error(train):57.8% \t error(val):58.0%\n",
            "epoch:2 \t Loss:0.663 \t error(train):57.9% \t error(val):58.0%\n",
            "epoch:4 \t Loss:0.678 \t error(train):57.5% \t error(val):56.0%\n",
            "epoch:6 \t Loss:0.701 \t error(train):58.1% \t error(val):58.0%\n",
            "epoch:8 \t Loss:0.653 \t error(train):58.0% \t error(val):58.0%\n",
            "epoch:10 \t Loss:0.689 \t error(train):58.6% \t error(val):56.2%\n",
            "epoch:12 \t Loss:0.709 \t error(train):57.9% \t error(val):58.0%\n",
            "epoch:14 \t Loss:0.602 \t error(train):58.1% \t error(val):58.1%\n",
            "epoch:16 \t Loss:0.661 \t error(train):58.4% \t error(val):57.9%\n",
            "epoch:18 \t Loss:0.554 \t error(train):58.0% \t error(val):58.1%\n",
            "epoch:20 \t Loss:0.678 \t error(train):58.5% \t error(val):57.8%\n",
            "epoch:22 \t Loss:0.643 \t error(train):59.1% \t error(val):56.6%\n",
            "epoch:24 \t Loss:0.660 \t error(train):58.7% \t error(val):57.8%\n",
            "epoch:26 \t Loss:0.662 \t error(train):58.7% \t error(val):57.8%\n",
            "epoch:28 \t Loss:0.656 \t error(train):58.4% \t error(val):57.8%\n",
            "epoch:30 \t Loss:0.674 \t error(train):58.5% \t error(val):57.7%\n",
            "epoch:32 \t Loss:0.650 \t error(train):58.6% \t error(val):57.8%\n",
            "epoch:34 \t Loss:0.666 \t error(train):58.7% \t error(val):57.8%\n",
            "epoch:36 \t Loss:0.668 \t error(train):58.7% \t error(val):57.8%\n",
            "epoch:38 \t Loss:0.712 \t error(train):58.6% \t error(val):57.5%\n",
            "epoch:40 \t Loss:0.693 \t error(train):58.6% \t error(val):57.7%\n",
            "epoch:42 \t Loss:0.685 \t error(train):58.6% \t error(val):57.7%\n",
            "epoch:44 \t Loss:0.741 \t error(train):58.6% \t error(val):57.7%\n",
            "epoch:46 \t Loss:0.689 \t error(train):58.6% \t error(val):57.7%\n",
            "epoch:48 \t Loss:0.723 \t error(train):58.6% \t error(val):57.7%\n",
            "epoch:0 \t Loss:0.654 \t error(train):57.8% \t error(val):58.0%\n",
            "epoch:2 \t Loss:0.633 \t error(train):58.0% \t error(val):58.0%\n",
            "epoch:4 \t Loss:0.663 \t error(train):45.5% \t error(val):43.7%\n",
            "epoch:6 \t Loss:0.607 \t error(train):57.9% \t error(val):58.0%\n",
            "epoch:8 \t Loss:0.626 \t error(train):57.9% \t error(val):58.1%\n",
            "epoch:10 \t Loss:0.717 \t error(train):59.0% \t error(val):55.0%\n",
            "epoch:12 \t Loss:0.628 \t error(train):58.4% \t error(val):57.6%\n",
            "epoch:14 \t Loss:0.670 \t error(train):58.7% \t error(val):57.9%\n",
            "epoch:16 \t Loss:0.702 \t error(train):58.9% \t error(val):57.6%\n",
            "epoch:18 \t Loss:0.708 \t error(train):59.0% \t error(val):57.6%\n",
            "epoch:20 \t Loss:0.626 \t error(train):58.7% \t error(val):57.6%\n",
            "epoch:22 \t Loss:0.679 \t error(train):58.6% \t error(val):57.7%\n",
            "epoch:24 \t Loss:0.750 \t error(train):59.1% \t error(val):57.5%\n",
            "epoch:26 \t Loss:0.716 \t error(train):58.8% \t error(val):57.6%\n",
            "epoch:28 \t Loss:0.625 \t error(train):59.0% \t error(val):57.7%\n",
            "epoch:30 \t Loss:0.625 \t error(train):59.1% \t error(val):57.3%\n",
            "epoch:32 \t Loss:0.695 \t error(train):58.9% \t error(val):57.7%\n",
            "epoch:34 \t Loss:0.648 \t error(train):58.7% \t error(val):57.6%\n",
            "epoch:36 \t Loss:0.691 \t error(train):58.9% \t error(val):57.7%\n",
            "epoch:38 \t Loss:0.666 \t error(train):59.0% \t error(val):57.7%\n",
            "epoch:40 \t Loss:0.711 \t error(train):58.9% \t error(val):57.7%\n",
            "epoch:42 \t Loss:0.625 \t error(train):58.9% \t error(val):57.7%\n",
            "epoch:44 \t Loss:0.650 \t error(train):58.9% \t error(val):57.7%\n",
            "epoch:46 \t Loss:0.661 \t error(train):58.9% \t error(val):57.7%\n",
            "epoch:48 \t Loss:0.673 \t error(train):58.9% \t error(val):57.7%\n"
          ]
        },
        {
          "output_type": "execute_result",
          "data": {
            "text/plain": [
              "Text(0.5, 1.0, 'Normal vs High Contrast')"
            ]
          },
          "metadata": {},
          "execution_count": 30
        },
        {
          "output_type": "display_data",
          "data": {
            "text/plain": [
              "<Figure size 432x288 with 1 Axes>"
            ],
            "image/png": "[encoded data removed]"
          },
          "metadata": {
            "needs_background": "light"
          }
        }
      ],
      "source": [
        "res = 50\n",
        "size = 10000\n",
        "err_lst = []\n",
        "beta_standard_dev = 1. / res\n",
        "beta_init = np.random.normal(0,beta_standard_dev,res*res)\n",
        "X_train,Y_train,X_test,Y_test = preprocessing(size,res)\n",
        "loss_hist, err_val, pred = train_SGD(beta_init,X_train,Y_train,X_test,Y_test)\n",
        "plt.plot(loss_hist,\"-^\",label = \"Type: Normal\")\n",
        "err_lst.append(err_val)\n",
        "\n",
        "X_train,Y_train,X_test,Y_test = preprocessing(size,res,contrast = True)\n",
        "loss_hist, err_val, pred = train_SGD(beta_init,X_train,Y_train,X_test,Y_test)\n",
        "plt.plot(loss_hist,\"-^\",label = \"Type: High Contrast\")\n",
        "err_lst.append(err_val)\n",
        "\n",
        "plt.legend()\n",
        "plt.yscale(\"log\")\n",
        "plt.xlabel(\"Epochs\")\n",
        "plt.grid(True)\n",
        "plt.title(\"Normal vs High Contrast\")"
      ]
    },
    {
      "cell_type": "markdown",
      "id": "15d91192",
      "metadata": {
        "id": "15d91192"
      },
      "source": [
        "Explanation:\n",
        "    \n",
        "High contrast enables better edge detection in our model. Hence, it is beneficial to continue using it. Both models have rather comparable performance in this case."
      ]
    },
    {
      "cell_type": "markdown",
      "id": "33c78a33",
      "metadata": {
        "id": "33c78a33"
      },
      "source": [
        "## Comparing Whole Face against Parts"
      ]
    },
    {
      "cell_type": "code",
      "execution_count": null,
      "id": "f99a998e",
      "metadata": {
        "scrolled": true,
        "id": "f99a998e",
        "outputId": "2616a177-592f-4424-d217-0b2e4defc137",
        "colab": {
          "base_uri": "https://localhost:8080/",
          "height": 1000
        }
      },
      "outputs": [
        {
          "output_type": "stream",
          "name": "stdout",
          "text": [
            "epoch:0 \t Loss:0.746 \t error(train):44.4% \t error(val):43.9%\n",
            "epoch:2 \t Loss:0.620 \t error(train):57.9% \t error(val):58.0%\n",
            "epoch:4 \t Loss:0.580 \t error(train):57.8% \t error(val):58.0%\n",
            "epoch:6 \t Loss:0.712 \t error(train):51.9% \t error(val):47.5%\n",
            "epoch:8 \t Loss:0.720 \t error(train):58.7% \t error(val):57.5%\n",
            "epoch:10 \t Loss:0.547 \t error(train):58.0% \t error(val):58.0%\n",
            "epoch:12 \t Loss:0.695 \t error(train):58.6% \t error(val):57.7%\n",
            "epoch:14 \t Loss:0.731 \t error(train):58.0% \t error(val):58.0%\n",
            "epoch:16 \t Loss:0.714 \t error(train):58.3% \t error(val):58.0%\n",
            "epoch:18 \t Loss:0.696 \t error(train):59.0% \t error(val):56.0%\n",
            "epoch:20 \t Loss:0.645 \t error(train):59.1% \t error(val):56.0%\n",
            "epoch:22 \t Loss:0.616 \t error(train):58.6% \t error(val):57.8%\n",
            "epoch:24 \t Loss:0.650 \t error(train):59.2% \t error(val):56.6%\n",
            "epoch:26 \t Loss:0.635 \t error(train):58.9% \t error(val):57.6%\n",
            "epoch:28 \t Loss:0.704 \t error(train):59.2% \t error(val):55.4%\n",
            "epoch:30 \t Loss:0.733 \t error(train):58.9% \t error(val):57.6%\n",
            "epoch:32 \t Loss:0.683 \t error(train):58.9% \t error(val):57.6%\n",
            "epoch:34 \t Loss:0.695 \t error(train):58.9% \t error(val):57.6%\n",
            "epoch:36 \t Loss:0.709 \t error(train):58.7% \t error(val):57.8%\n",
            "epoch:38 \t Loss:0.647 \t error(train):58.8% \t error(val):57.6%\n",
            "epoch:40 \t Loss:0.709 \t error(train):58.8% \t error(val):57.6%\n",
            "epoch:42 \t Loss:0.652 \t error(train):58.8% \t error(val):57.6%\n",
            "epoch:44 \t Loss:0.664 \t error(train):58.7% \t error(val):57.7%\n",
            "epoch:46 \t Loss:0.627 \t error(train):58.8% \t error(val):57.6%\n",
            "epoch:48 \t Loss:0.689 \t error(train):58.8% \t error(val):57.6%\n",
            "epoch:0 \t Loss:0.640 \t error(train):57.8% \t error(val):58.0%\n",
            "epoch:2 \t Loss:0.638 \t error(train):57.8% \t error(val):58.0%\n",
            "epoch:4 \t Loss:0.698 \t error(train):57.9% \t error(val):57.4%\n",
            "epoch:6 \t Loss:0.702 \t error(train):58.0% \t error(val):57.8%\n",
            "epoch:8 \t Loss:0.684 \t error(train):58.0% \t error(val):57.9%\n",
            "epoch:10 \t Loss:0.642 \t error(train):58.0% \t error(val):57.7%\n",
            "epoch:12 \t Loss:0.686 \t error(train):58.0% \t error(val):57.8%\n",
            "epoch:14 \t Loss:0.667 \t error(train):58.1% \t error(val):57.1%\n",
            "epoch:16 \t Loss:0.685 \t error(train):58.0% \t error(val):57.9%\n",
            "epoch:18 \t Loss:0.643 \t error(train):58.2% \t error(val):57.0%\n",
            "epoch:20 \t Loss:0.706 \t error(train):58.2% \t error(val):57.1%\n",
            "epoch:22 \t Loss:0.646 \t error(train):58.1% \t error(val):57.7%\n",
            "epoch:24 \t Loss:0.636 \t error(train):58.2% \t error(val):57.0%\n",
            "epoch:26 \t Loss:0.657 \t error(train):58.2% \t error(val):57.3%\n",
            "epoch:28 \t Loss:0.651 \t error(train):58.1% \t error(val):57.6%\n",
            "epoch:30 \t Loss:0.702 \t error(train):58.2% \t error(val):57.4%\n",
            "epoch:32 \t Loss:0.737 \t error(train):58.1% \t error(val):57.4%\n",
            "epoch:34 \t Loss:0.670 \t error(train):58.2% \t error(val):57.2%\n",
            "epoch:36 \t Loss:0.669 \t error(train):58.2% \t error(val):57.2%\n",
            "epoch:38 \t Loss:0.719 \t error(train):58.1% \t error(val):57.3%\n",
            "epoch:40 \t Loss:0.678 \t error(train):58.1% \t error(val):57.4%\n",
            "epoch:42 \t Loss:0.717 \t error(train):58.2% \t error(val):57.3%\n",
            "epoch:44 \t Loss:0.636 \t error(train):58.1% \t error(val):57.3%\n",
            "epoch:46 \t Loss:0.687 \t error(train):58.1% \t error(val):57.3%\n",
            "epoch:48 \t Loss:0.635 \t error(train):58.1% \t error(val):57.3%\n",
            "epoch:0 \t Loss:0.669 \t error(train):57.8% \t error(val):58.0%\n",
            "epoch:2 \t Loss:0.533 \t error(train):57.8% \t error(val):58.0%\n",
            "epoch:4 \t Loss:0.708 \t error(train):56.7% \t error(val):54.7%\n",
            "epoch:6 \t Loss:0.584 \t error(train):57.8% \t error(val):58.0%\n",
            "epoch:8 \t Loss:0.651 \t error(train):57.1% \t error(val):53.7%\n",
            "epoch:10 \t Loss:0.693 \t error(train):58.1% \t error(val):56.8%\n",
            "epoch:12 \t Loss:0.683 \t error(train):58.3% \t error(val):55.8%\n",
            "epoch:14 \t Loss:0.647 \t error(train):57.9% \t error(val):57.9%\n",
            "epoch:16 \t Loss:0.655 \t error(train):58.2% \t error(val):57.2%\n",
            "epoch:18 \t Loss:0.770 \t error(train):58.1% \t error(val):57.6%\n",
            "epoch:20 \t Loss:0.737 \t error(train):58.3% \t error(val):57.5%\n",
            "epoch:22 \t Loss:0.754 \t error(train):58.3% \t error(val):57.5%\n",
            "epoch:24 \t Loss:0.747 \t error(train):58.7% \t error(val):56.6%\n",
            "epoch:26 \t Loss:0.636 \t error(train):58.0% \t error(val):57.8%\n",
            "epoch:28 \t Loss:0.664 \t error(train):58.0% \t error(val):57.8%\n",
            "epoch:30 \t Loss:0.685 \t error(train):58.2% \t error(val):57.6%\n",
            "epoch:32 \t Loss:0.696 \t error(train):58.3% \t error(val):57.3%\n",
            "epoch:34 \t Loss:0.646 \t error(train):58.0% \t error(val):57.6%\n",
            "epoch:36 \t Loss:0.619 \t error(train):58.1% \t error(val):57.5%\n",
            "epoch:38 \t Loss:0.716 \t error(train):58.3% \t error(val):57.6%\n",
            "epoch:40 \t Loss:0.700 \t error(train):58.2% \t error(val):57.5%\n",
            "epoch:42 \t Loss:0.680 \t error(train):58.2% \t error(val):57.6%\n",
            "epoch:44 \t Loss:0.683 \t error(train):58.2% \t error(val):57.6%\n",
            "epoch:46 \t Loss:0.630 \t error(train):58.2% \t error(val):57.6%\n",
            "epoch:48 \t Loss:0.663 \t error(train):58.2% \t error(val):57.5%\n",
            "epoch:0 \t Loss:0.676 \t error(train):57.7% \t error(val):57.9%\n",
            "epoch:2 \t Loss:0.693 \t error(train):57.9% \t error(val):57.6%\n",
            "epoch:4 \t Loss:0.703 \t error(train):57.6% \t error(val):56.7%\n",
            "epoch:6 \t Loss:0.718 \t error(train):57.9% \t error(val):56.0%\n",
            "epoch:8 \t Loss:0.772 \t error(train):57.8% \t error(val):57.6%\n",
            "epoch:10 \t Loss:0.685 \t error(train):53.4% \t error(val):49.8%\n",
            "epoch:12 \t Loss:0.677 \t error(train):57.9% \t error(val):57.5%\n",
            "epoch:14 \t Loss:0.719 \t error(train):58.1% \t error(val):56.2%\n",
            "epoch:16 \t Loss:0.673 \t error(train):57.9% \t error(val):57.5%\n",
            "epoch:18 \t Loss:0.586 \t error(train):57.9% \t error(val):57.7%\n",
            "epoch:20 \t Loss:0.685 \t error(train):58.1% \t error(val):57.3%\n",
            "epoch:22 \t Loss:0.678 \t error(train):58.0% \t error(val):57.0%\n",
            "epoch:24 \t Loss:0.671 \t error(train):58.0% \t error(val):57.5%\n",
            "epoch:26 \t Loss:0.700 \t error(train):58.0% \t error(val):57.5%\n",
            "epoch:28 \t Loss:0.696 \t error(train):58.0% \t error(val):57.5%\n",
            "epoch:30 \t Loss:0.681 \t error(train):57.9% \t error(val):57.5%\n",
            "epoch:32 \t Loss:0.665 \t error(train):58.0% \t error(val):57.5%\n",
            "epoch:34 \t Loss:0.667 \t error(train):57.9% \t error(val):57.5%\n",
            "epoch:36 \t Loss:0.673 \t error(train):58.0% \t error(val):57.5%\n",
            "epoch:38 \t Loss:0.692 \t error(train):57.9% \t error(val):57.5%\n",
            "epoch:40 \t Loss:0.713 \t error(train):58.0% \t error(val):57.5%\n",
            "epoch:42 \t Loss:0.729 \t error(train):58.0% \t error(val):57.5%\n",
            "epoch:44 \t Loss:0.669 \t error(train):58.0% \t error(val):57.5%\n",
            "epoch:46 \t Loss:0.676 \t error(train):58.0% \t error(val):57.5%\n",
            "epoch:48 \t Loss:0.722 \t error(train):58.0% \t error(val):57.5%\n",
            "epoch:0 \t Loss:0.724 \t error(train):56.5% \t error(val):56.3%\n",
            "epoch:2 \t Loss:0.687 \t error(train):57.9% \t error(val):57.9%\n",
            "epoch:4 \t Loss:0.683 \t error(train):57.9% \t error(val):57.3%\n",
            "epoch:6 \t Loss:0.674 \t error(train):57.5% \t error(val):55.0%\n",
            "epoch:8 \t Loss:0.665 \t error(train):57.9% \t error(val):57.7%\n",
            "epoch:10 \t Loss:0.628 \t error(train):57.9% \t error(val):57.7%\n",
            "epoch:12 \t Loss:0.644 \t error(train):55.2% \t error(val):50.7%\n",
            "epoch:14 \t Loss:0.679 \t error(train):58.1% \t error(val):57.5%\n",
            "epoch:16 \t Loss:0.660 \t error(train):58.5% \t error(val):56.3%\n",
            "epoch:18 \t Loss:0.634 \t error(train):58.2% \t error(val):57.7%\n",
            "epoch:20 \t Loss:0.691 \t error(train):58.4% \t error(val):57.2%\n",
            "epoch:22 \t Loss:0.747 \t error(train):58.3% \t error(val):57.5%\n",
            "epoch:24 \t Loss:0.677 \t error(train):57.9% \t error(val):57.8%\n",
            "epoch:26 \t Loss:0.694 \t error(train):58.3% \t error(val):57.5%\n",
            "epoch:28 \t Loss:0.694 \t error(train):58.5% \t error(val):57.0%\n",
            "epoch:30 \t Loss:0.656 \t error(train):58.5% \t error(val):57.1%\n",
            "epoch:32 \t Loss:0.684 \t error(train):58.1% \t error(val):57.6%\n",
            "epoch:34 \t Loss:0.707 \t error(train):58.5% \t error(val):57.1%\n",
            "epoch:36 \t Loss:0.704 \t error(train):58.4% \t error(val):57.2%\n",
            "epoch:38 \t Loss:0.625 \t error(train):58.1% \t error(val):57.6%\n",
            "epoch:40 \t Loss:0.697 \t error(train):58.5% \t error(val):57.3%\n",
            "epoch:42 \t Loss:0.646 \t error(train):58.5% \t error(val):57.2%\n",
            "epoch:44 \t Loss:0.728 \t error(train):58.5% \t error(val):57.3%\n",
            "epoch:46 \t Loss:0.714 \t error(train):58.5% \t error(val):57.2%\n",
            "epoch:48 \t Loss:0.652 \t error(train):58.5% \t error(val):57.3%\n"
          ]
        },
        {
          "output_type": "execute_result",
          "data": {
            "text/plain": [
              "Text(0.5, 1.0, 'Specific Facial Features')"
            ]
          },
          "metadata": {},
          "execution_count": 31
        },
        {
          "output_type": "display_data",
          "data": {
            "text/plain": [
              "<Figure size 432x288 with 1 Axes>"
            ],
            "image/png": "[encoded data removed]"
          },
          "metadata": {
            "needs_background": "light"
          }
        }
      ],
      "source": [
        "res = 50\n",
        "size = 10000\n",
        "err_lst = []\n",
        "beta_standard_dev = 1. / res\n",
        "beta_init = np.random.normal(0,beta_standard_dev,res*res)\n",
        "X_train,Y_train,X_test,Y_test = preprocessing(size,res,contrast = True)\n",
        "loss_hist, err_val, pred = train_SGD(beta_init,X_train,Y_train,X_test,Y_test)\n",
        "plt.plot(loss_hist,\"-^\",label = \"Type: Whole Face\")\n",
        "err_lst.append(err_val)\n",
        "\n",
        "\n",
        "X_train_hair,X_train_eyes,X_train_nose,X_train_jaw,Y_train,X_test_hair,X_test_eyes,X_test_nose,X_test_jaw,Y_test = preprocessing_facepart(size,res)\n",
        "loss_hist, err_val, pred_hair = train_SGD(beta_init,X_train_hair,Y_train,X_test_hair,Y_test)\n",
        "plt.plot(loss_hist,\"-^\",label = \"Type: Hair\")\n",
        "err_lst.append(err_val)\n",
        "\n",
        "loss_hist, err_val, pred_eyes = train_SGD(beta_init,X_train_eyes,Y_train,X_test_eyes,Y_test)\n",
        "plt.plot(loss_hist,\"-^\",label = \"Type: Eyes\")\n",
        "err_lst.append(err_val)\n",
        "\n",
        "loss_hist, err_val, pred_nose = train_SGD(beta_init,X_train_nose,Y_train,X_test_nose,Y_test)\n",
        "plt.plot(loss_hist,\"-^\",label = \"Type: Nose\")\n",
        "err_lst.append(err_val)\n",
        "\n",
        "loss_hist, err_val, pred_Jaw = train_SGD(beta_init,X_train_jaw,Y_train,X_test_jaw,Y_test)\n",
        "plt.plot(loss_hist,\"-^\",label = \"Type: Jaw\")\n",
        "err_lst.append(err_val)\n",
        "\n",
        "plt.legend()\n",
        "plt.yscale(\"log\")\n",
        "plt.xlabel(\"Epochs\")\n",
        "plt.grid(True)\n",
        "plt.title(\"Specific Facial Features\")"
      ]
    },
    {
      "cell_type": "markdown",
      "id": "1988c099",
      "metadata": {
        "id": "1988c099"
      },
      "source": [
        "## Ensembling with above results"
      ]
    },
    {
      "cell_type": "code",
      "execution_count": null,
      "id": "af0b4d52",
      "metadata": {
        "id": "af0b4d52",
        "outputId": "62c5cd60-79f7-4782-c278-97a3eff9e337",
        "colab": {
          "base_uri": "https://localhost:8080/"
        }
      },
      "outputs": [
        {
          "output_type": "stream",
          "name": "stdout",
          "text": [
            "Accuracy:  0.579\n",
            "F1_score:  0.009411764705882354\n"
          ]
        },
        {
          "output_type": "execute_result",
          "data": {
            "text/plain": [
              "array([[2885,   16],\n",
              "       [2089,   10]])"
            ]
          },
          "metadata": {},
          "execution_count": 32
        }
      ],
      "source": [
        "from sklearn.metrics import confusion_matrix\n",
        "from sklearn.metrics import accuracy_score,f1_score\n",
        "confusion_matrix(Y_test,pred)\n",
        "def aggregate(*pred):\n",
        "    \"\"\"\n",
        "    desc:\n",
        "    ===\n",
        "    Takes in arbitrary number of prediction from individual decision trees and output majority class.\n",
        "    If there is a tie (i.e. 0), break it at random.\n",
        "    \"\"\"\n",
        "    lst = [sum(x) for x in zip(*pred)]\n",
        "    agg = []\n",
        "    for i in lst:\n",
        "        if i == 0:\n",
        "            n = np.random.uniform(0,1,1)\n",
        "            if n<0.5:\n",
        "                agg.append(-1)\n",
        "            else:\n",
        "                agg.append(1)\n",
        "        elif i<0:\n",
        "            agg.append(-1)\n",
        "        else:\n",
        "            agg.append(1)\n",
        "        \n",
        "    return agg\n",
        "pred = aggregate(pred_hair,pred_eyes,pred_nose,pred_Jaw)\n",
        "acc = accuracy_score(Y_test,pred)\n",
        "f1 = f1_score(Y_test,pred)\n",
        "print(\"Accuracy: \",acc)\n",
        "print(\"F1_score: \",f1)\n",
        "confusion_matrix(Y_test,pred)"
      ]
    },
    {
      "cell_type": "markdown",
      "id": "3e3f7c75",
      "metadata": {
        "id": "3e3f7c75"
      },
      "source": [
        "Explanation:\n",
        "\n",
        "Ensembling in this case, does not fare any better."
      ]
    },
    {
      "cell_type": "markdown",
      "source": [
        "# Balancing Data"
      ],
      "metadata": {
        "id": "ABrEUnL23QKr"
      },
      "id": "ABrEUnL23QKr"
    },
    {
      "cell_type": "code",
      "source": [
        "X_train,Y_train,X_test,Y_test = preprocessing(10000,100)"
      ],
      "metadata": {
        "id": "pyDH8-S39nD2"
      },
      "id": "pyDH8-S39nD2",
      "execution_count": null,
      "outputs": []
    },
    {
      "cell_type": "code",
      "source": [
        "# We have more females than males, thus try rebalancing\n",
        "print(sum(Y_train))"
      ],
      "metadata": {
        "colab": {
          "base_uri": "https://localhost:8080/"
        },
        "id": "YLwqQ43PinyI",
        "outputId": "f022d6f1-cea4-4c2f-cd19-5c2b40007e66"
      },
      "id": "YLwqQ43PinyI",
      "execution_count": null,
      "outputs": [
        {
          "output_type": "stream",
          "name": "stdout",
          "text": [
            "-1566\n"
          ]
        }
      ]
    },
    {
      "cell_type": "code",
      "source": [
        "def rebalance(X_array, Y_array): \n",
        "    femalesOver = sum(Y_array) * -1\n",
        "    genderToReduce = -1\n",
        "\n",
        "    if femalesOver < 0:\n",
        "        genderToReduce = 1     # if for some reason males > females, we will reduce the number of males\n",
        "\n",
        "    femalesWhere = np.where(Y_array == genderToReduce)[0]\n",
        "    indexToDelete = np.random.choice(femalesWhere, size=femalesOver, replace=False)\n",
        "\n",
        "    new_X_array = np.delete(X_array, indexToDelete, 0)\n",
        "    new_Y_array = np.delete(Y_array, indexToDelete)\n",
        "    return new_X_array, new_Y_array"
      ],
      "metadata": {
        "id": "8mYWT1tC1fE4"
      },
      "id": "8mYWT1tC1fE4",
      "execution_count": null,
      "outputs": []
    },
    {
      "cell_type": "code",
      "source": [
        "X_train, Y_train = rebalance(X_train, Y_train)  # do this to balance male and female (num of datapoints will decrease)"
      ],
      "metadata": {
        "id": "b-ruNRzh2DY9"
      },
      "id": "b-ruNRzh2DY9",
      "execution_count": null,
      "outputs": []
    },
    {
      "cell_type": "code",
      "source": [
        "# Extra females removed\n",
        "print(sum(Y_train))\n",
        "print(Y_train.shape)"
      ],
      "metadata": {
        "colab": {
          "base_uri": "https://localhost:8080/"
        },
        "id": "0BAYdwdv6-LH",
        "outputId": "59b03514-e235-4d91-bb1f-0d227bf6460d"
      },
      "id": "0BAYdwdv6-LH",
      "execution_count": null,
      "outputs": [
        {
          "output_type": "stream",
          "name": "stdout",
          "text": [
            "0\n",
            "(8434,)\n"
          ]
        }
      ]
    },
    {
      "cell_type": "code",
      "source": [
        "# balanced   training data\n",
        "# imbalanced testing data\n",
        "# varied learning rate to see what it changes\n",
        "\n",
        "X_train, Y_train = rebalance(X_train, Y_train)\n",
        "\n",
        "lst = [0.001, 0.01, 0.02, 0.05]\n",
        "err_lst = []\n",
        "loss_lst = []\n",
        "\n",
        "for num in lst:\n",
        "    print(\"learning rate: \",num)\n",
        "    print(\"preprocessed\")\n",
        "    beta_init = np.random.normal(0,beta_standard_dev,100*100)\n",
        "    loss_hist, err_val, pred = train_SGD(beta_init,X_train,Y_train,X_test,Y_test, learning_rate_init = num, regularization=0)\n",
        "    err_lst.append(err_val)\n",
        "    plt.plot(loss_hist,\"-^\",label = f\"num_images:{num}\")\n",
        "\n",
        "plt.legend()\n",
        "plt.yscale(\"log\")\n",
        "plt.xlabel(\"Epochs\")\n",
        "plt.grid(True)\n",
        "plt.title(\"Number of Training Samples\")"
      ],
      "metadata": {
        "colab": {
          "base_uri": "https://localhost:8080/",
          "height": 1000
        },
        "id": "h4c5CS3t3UFL",
        "outputId": "15ab6a75-a95b-4ad1-f7b3-a7395724ea02"
      },
      "id": "h4c5CS3t3UFL",
      "execution_count": null,
      "outputs": [
        {
          "output_type": "stream",
          "name": "stdout",
          "text": [
            "learning rate:  0.001\n",
            "preprocessed\n",
            "epoch:0 \t Loss:0.689 \t error(train):49.9% \t error(val):44.7%\n",
            "epoch:2 \t Loss:0.680 \t error(train):50.8% \t error(val):47.9%\n",
            "epoch:4 \t Loss:0.703 \t error(train):50.6% \t error(val):45.9%\n",
            "epoch:6 \t Loss:0.743 \t error(train):52.2% \t error(val):53.2%\n",
            "epoch:8 \t Loss:0.697 \t error(train):52.2% \t error(val):54.6%\n",
            "epoch:10 \t Loss:0.703 \t error(train):52.4% \t error(val):53.5%\n",
            "epoch:12 \t Loss:0.716 \t error(train):52.1% \t error(val):56.0%\n",
            "epoch:14 \t Loss:0.679 \t error(train):51.6% \t error(val):48.9%\n",
            "epoch:16 \t Loss:0.704 \t error(train):52.6% \t error(val):53.6%\n",
            "epoch:18 \t Loss:0.702 \t error(train):52.5% \t error(val):54.3%\n",
            "epoch:20 \t Loss:0.691 \t error(train):52.6% \t error(val):54.6%\n",
            "epoch:22 \t Loss:0.685 \t error(train):52.8% \t error(val):52.8%\n",
            "epoch:24 \t Loss:0.668 \t error(train):52.8% \t error(val):53.9%\n",
            "epoch:26 \t Loss:0.692 \t error(train):52.6% \t error(val):53.9%\n",
            "epoch:28 \t Loss:0.694 \t error(train):52.6% \t error(val):53.8%\n",
            "epoch:30 \t Loss:0.716 \t error(train):52.7% \t error(val):53.9%\n",
            "epoch:32 \t Loss:0.692 \t error(train):52.7% \t error(val):54.1%\n",
            "epoch:34 \t Loss:0.687 \t error(train):52.7% \t error(val):53.9%\n",
            "epoch:36 \t Loss:0.686 \t error(train):52.7% \t error(val):53.9%\n",
            "epoch:38 \t Loss:0.706 \t error(train):52.7% \t error(val):54.1%\n",
            "epoch:40 \t Loss:0.664 \t error(train):52.7% \t error(val):54.1%\n",
            "epoch:42 \t Loss:0.685 \t error(train):52.7% \t error(val):54.1%\n",
            "epoch:44 \t Loss:0.692 \t error(train):52.7% \t error(val):54.1%\n",
            "epoch:46 \t Loss:0.687 \t error(train):52.7% \t error(val):54.1%\n",
            "epoch:48 \t Loss:0.689 \t error(train):52.7% \t error(val):54.1%\n",
            "learning rate:  0.01\n",
            "preprocessed\n",
            "epoch:0 \t Loss:0.776 \t error(train):50.8% \t error(val):57.7%\n",
            "epoch:2 \t Loss:0.809 \t error(train):50.7% \t error(val):58.0%\n",
            "epoch:4 \t Loss:0.661 \t error(train):51.2% \t error(val):47.1%\n",
            "epoch:6 \t Loss:0.720 \t error(train):55.1% \t error(val):54.2%\n",
            "epoch:8 \t Loss:0.665 \t error(train):52.4% \t error(val):48.1%\n",
            "epoch:10 \t Loss:0.688 \t error(train):54.6% \t error(val):56.7%\n",
            "epoch:12 \t Loss:0.742 \t error(train):53.3% \t error(val):48.5%\n",
            "epoch:14 \t Loss:0.686 \t error(train):55.2% \t error(val):51.1%\n",
            "epoch:16 \t Loss:0.673 \t error(train):55.9% \t error(val):52.4%\n",
            "epoch:18 \t Loss:0.677 \t error(train):54.4% \t error(val):50.1%\n",
            "epoch:20 \t Loss:0.674 \t error(train):56.0% \t error(val):53.6%\n",
            "epoch:22 \t Loss:0.665 \t error(train):55.3% \t error(val):56.5%\n",
            "epoch:24 \t Loss:0.677 \t error(train):56.0% \t error(val):54.8%\n",
            "epoch:26 \t Loss:0.670 \t error(train):56.1% \t error(val):52.5%\n",
            "epoch:28 \t Loss:0.673 \t error(train):56.1% \t error(val):53.8%\n",
            "epoch:30 \t Loss:0.671 \t error(train):56.1% \t error(val):54.5%\n",
            "epoch:32 \t Loss:0.678 \t error(train):56.1% \t error(val):54.3%\n",
            "epoch:34 \t Loss:0.714 \t error(train):56.3% \t error(val):53.7%\n",
            "epoch:36 \t Loss:0.694 \t error(train):56.2% \t error(val):53.5%\n",
            "epoch:38 \t Loss:0.735 \t error(train):56.1% \t error(val):53.4%\n",
            "epoch:40 \t Loss:0.665 \t error(train):56.2% \t error(val):53.5%\n",
            "epoch:42 \t Loss:0.681 \t error(train):56.2% \t error(val):53.6%\n",
            "epoch:44 \t Loss:0.694 \t error(train):56.2% \t error(val):53.7%\n",
            "epoch:46 \t Loss:0.650 \t error(train):56.2% \t error(val):53.6%\n",
            "epoch:48 \t Loss:0.680 \t error(train):56.3% \t error(val):53.5%\n",
            "learning rate:  0.02\n",
            "preprocessed\n",
            "epoch:0 \t Loss:1.986 \t error(train):49.4% \t error(val):42.0%\n",
            "epoch:2 \t Loss:0.768 \t error(train):52.9% \t error(val):51.8%\n",
            "epoch:4 \t Loss:0.800 \t error(train):53.5% \t error(val):50.9%\n",
            "epoch:6 \t Loss:0.657 \t error(train):54.2% \t error(val):56.9%\n",
            "epoch:8 \t Loss:0.682 \t error(train):49.8% \t error(val):42.5%\n",
            "epoch:10 \t Loss:0.673 \t error(train):56.6% \t error(val):51.5%\n",
            "epoch:12 \t Loss:0.715 \t error(train):55.5% \t error(val):55.4%\n",
            "epoch:14 \t Loss:0.654 \t error(train):56.2% \t error(val):50.3%\n",
            "epoch:16 \t Loss:0.659 \t error(train):55.1% \t error(val):55.9%\n",
            "epoch:18 \t Loss:0.718 \t error(train):57.1% \t error(val):53.7%\n",
            "epoch:20 \t Loss:0.702 \t error(train):57.4% \t error(val):51.3%\n",
            "epoch:22 \t Loss:0.692 \t error(train):57.0% \t error(val):54.1%\n",
            "epoch:24 \t Loss:0.746 \t error(train):57.5% \t error(val):53.0%\n",
            "epoch:26 \t Loss:0.689 \t error(train):56.5% \t error(val):54.5%\n",
            "epoch:28 \t Loss:0.717 \t error(train):57.7% \t error(val):51.9%\n",
            "epoch:30 \t Loss:0.672 \t error(train):57.9% \t error(val):51.8%\n",
            "epoch:32 \t Loss:0.630 \t error(train):57.6% \t error(val):51.3%\n",
            "epoch:34 \t Loss:0.645 \t error(train):57.4% \t error(val):52.5%\n",
            "epoch:36 \t Loss:0.620 \t error(train):57.9% \t error(val):51.8%\n",
            "epoch:38 \t Loss:0.647 \t error(train):57.9% \t error(val):52.0%\n",
            "epoch:40 \t Loss:0.682 \t error(train):57.5% \t error(val):52.5%\n",
            "epoch:42 \t Loss:0.636 \t error(train):57.7% \t error(val):52.1%\n",
            "epoch:44 \t Loss:0.697 \t error(train):57.6% \t error(val):52.3%\n",
            "epoch:46 \t Loss:0.674 \t error(train):57.8% \t error(val):52.1%\n",
            "epoch:48 \t Loss:0.669 \t error(train):57.9% \t error(val):51.6%\n",
            "learning rate:  0.05\n",
            "preprocessed\n",
            "epoch:0 \t Loss:2.226 \t error(train):49.3% \t error(val):42.1%\n",
            "epoch:2 \t Loss:0.653 \t error(train):49.4% \t error(val):42.0%\n",
            "epoch:4 \t Loss:1.772 \t error(train):53.5% \t error(val):56.3%\n",
            "epoch:6 \t Loss:0.804 \t error(train):52.9% \t error(val):56.8%\n",
            "epoch:8 \t Loss:0.768 \t error(train):50.2% \t error(val):43.1%\n",
            "epoch:10 \t Loss:0.736 \t error(train):55.1% \t error(val):54.6%\n",
            "epoch:12 \t Loss:0.772 \t error(train):57.7% \t error(val):49.7%\n",
            "epoch:14 \t Loss:0.591 \t error(train):55.4% \t error(val):55.1%\n",
            "epoch:16 \t Loss:0.614 \t error(train):54.2% \t error(val):45.7%\n",
            "epoch:18 \t Loss:0.677 \t error(train):58.6% \t error(val):49.8%\n",
            "epoch:20 \t Loss:0.628 \t error(train):58.9% \t error(val):49.8%\n",
            "epoch:22 \t Loss:0.604 \t error(train):57.8% \t error(val):48.1%\n",
            "epoch:24 \t Loss:0.760 \t error(train):58.8% \t error(val):52.4%\n",
            "epoch:26 \t Loss:0.588 \t error(train):59.1% \t error(val):50.7%\n",
            "epoch:28 \t Loss:0.586 \t error(train):59.2% \t error(val):52.0%\n",
            "epoch:30 \t Loss:0.632 \t error(train):59.2% \t error(val):52.2%\n",
            "epoch:32 \t Loss:0.643 \t error(train):59.4% \t error(val):51.7%\n",
            "epoch:34 \t Loss:0.603 \t error(train):59.3% \t error(val):52.0%\n",
            "epoch:36 \t Loss:0.590 \t error(train):59.3% \t error(val):52.3%\n",
            "epoch:38 \t Loss:0.659 \t error(train):59.4% \t error(val):51.3%\n",
            "epoch:40 \t Loss:0.654 \t error(train):59.4% \t error(val):51.5%\n",
            "epoch:42 \t Loss:0.635 \t error(train):59.4% \t error(val):51.6%\n",
            "epoch:44 \t Loss:0.498 \t error(train):59.4% \t error(val):50.5%\n",
            "epoch:46 \t Loss:0.577 \t error(train):59.4% \t error(val):51.9%\n",
            "epoch:48 \t Loss:0.651 \t error(train):59.5% \t error(val):51.6%\n"
          ]
        },
        {
          "output_type": "execute_result",
          "data": {
            "text/plain": [
              "Text(0.5, 1.0, 'Number of Training Samples')"
            ]
          },
          "metadata": {},
          "execution_count": 112
        },
        {
          "output_type": "display_data",
          "data": {
            "text/plain": [
              "<Figure size 432x288 with 1 Axes>"
            ],
            "image/png": "[encoded data removed]"
          },
          "metadata": {
            "needs_background": "light"
          }
        }
      ]
    },
    {
      "cell_type": "code",
      "source": [
        "# balanced training data\n",
        "# balanced testing data\n",
        "# varied learning rate to see what it changes\n",
        "\n",
        "X_train, Y_train = rebalance(X_train, Y_train)\n",
        "X_test, Y_test = rebalance(X_test, Y_test)\n",
        "\n",
        "lst = [0.001, 0.01, 0.02, 0.05]\n",
        "err_lst = []\n",
        "loss_lst = []\n",
        "\n",
        "for num in lst:\n",
        "    print(\"learning rate: \",num)\n",
        "    print(\"preprocessed\")\n",
        "    beta_init = np.random.normal(0,beta_standard_dev,100*100)\n",
        "    loss_hist, err_val, pred = train_SGD(beta_init,X_train,Y_train,X_test,Y_test, learning_rate_init = num, regularization=0)\n",
        "    err_lst.append(err_val)\n",
        "    plt.plot(loss_hist,\"-^\",label = f\"num_images:{num}\")\n",
        "\n",
        "plt.legend()\n",
        "plt.yscale(\"log\")\n",
        "plt.xlabel(\"Epochs\")\n",
        "plt.grid(True)\n",
        "plt.title(\"Number of Training Samples\")"
      ],
      "metadata": {
        "colab": {
          "base_uri": "https://localhost:8080/",
          "height": 1000
        },
        "id": "a-WAMAhSAaat",
        "outputId": "e94a8c56-8fa3-4c07-8843-04a9510291c5"
      },
      "id": "a-WAMAhSAaat",
      "execution_count": null,
      "outputs": [
        {
          "output_type": "stream",
          "name": "stdout",
          "text": [
            "learning rate:  0.001\n",
            "preprocessed\n",
            "epoch:0 \t Loss:0.697 \t error(train):49.6% \t error(val):49.0%\n",
            "epoch:2 \t Loss:0.701 \t error(train):50.8% \t error(val):49.4%\n",
            "epoch:4 \t Loss:0.695 \t error(train):50.8% \t error(val):49.9%\n",
            "epoch:6 \t Loss:0.725 \t error(train):51.9% \t error(val):49.5%\n",
            "epoch:8 \t Loss:0.708 \t error(train):52.1% \t error(val):49.7%\n",
            "epoch:10 \t Loss:0.714 \t error(train):52.4% \t error(val):50.0%\n",
            "epoch:12 \t Loss:0.692 \t error(train):52.2% \t error(val):49.8%\n",
            "epoch:14 \t Loss:0.701 \t error(train):52.5% \t error(val):50.0%\n",
            "epoch:16 \t Loss:0.673 \t error(train):52.3% \t error(val):50.1%\n",
            "epoch:18 \t Loss:0.677 \t error(train):52.6% \t error(val):50.0%\n",
            "epoch:20 \t Loss:0.683 \t error(train):52.5% \t error(val):50.0%\n",
            "epoch:22 \t Loss:0.718 \t error(train):52.7% \t error(val):50.1%\n",
            "epoch:24 \t Loss:0.700 \t error(train):52.4% \t error(val):49.7%\n",
            "epoch:26 \t Loss:0.677 \t error(train):52.6% \t error(val):50.0%\n",
            "epoch:28 \t Loss:0.683 \t error(train):52.6% \t error(val):50.1%\n",
            "epoch:30 \t Loss:0.699 \t error(train):52.6% \t error(val):50.0%\n",
            "epoch:32 \t Loss:0.675 \t error(train):52.6% \t error(val):49.9%\n",
            "epoch:34 \t Loss:0.701 \t error(train):52.5% \t error(val):50.1%\n",
            "epoch:36 \t Loss:0.658 \t error(train):52.7% \t error(val):50.0%\n",
            "epoch:38 \t Loss:0.693 \t error(train):52.7% \t error(val):50.0%\n",
            "epoch:40 \t Loss:0.675 \t error(train):52.7% \t error(val):50.0%\n",
            "epoch:42 \t Loss:0.685 \t error(train):52.7% \t error(val):50.0%\n",
            "epoch:44 \t Loss:0.687 \t error(train):52.7% \t error(val):50.0%\n",
            "epoch:46 \t Loss:0.688 \t error(train):52.7% \t error(val):50.0%\n",
            "epoch:48 \t Loss:0.694 \t error(train):52.7% \t error(val):50.0%\n",
            "learning rate:  0.01\n",
            "preprocessed\n",
            "epoch:0 \t Loss:0.684 \t error(train):49.9% \t error(val):50.7%\n",
            "epoch:2 \t Loss:0.658 \t error(train):49.5% \t error(val):50.0%\n",
            "epoch:4 \t Loss:0.772 \t error(train):54.0% \t error(val):49.6%\n",
            "epoch:6 \t Loss:0.774 \t error(train):54.6% \t error(val):49.6%\n",
            "epoch:8 \t Loss:0.674 \t error(train):55.2% \t error(val):49.7%\n",
            "epoch:10 \t Loss:0.634 \t error(train):52.9% \t error(val):50.0%\n",
            "epoch:12 \t Loss:0.668 \t error(train):55.2% \t error(val):49.9%\n",
            "epoch:14 \t Loss:0.696 \t error(train):55.9% \t error(val):49.6%\n",
            "epoch:16 \t Loss:0.689 \t error(train):56.0% \t error(val):49.7%\n",
            "epoch:18 \t Loss:0.690 \t error(train):56.0% \t error(val):50.0%\n",
            "epoch:20 \t Loss:0.678 \t error(train):55.7% \t error(val):49.9%\n",
            "epoch:22 \t Loss:0.692 \t error(train):56.2% \t error(val):50.0%\n",
            "epoch:24 \t Loss:0.649 \t error(train):55.5% \t error(val):50.4%\n",
            "epoch:26 \t Loss:0.681 \t error(train):56.1% \t error(val):49.7%\n",
            "epoch:28 \t Loss:0.732 \t error(train):56.0% \t error(val):50.0%\n",
            "epoch:30 \t Loss:0.687 \t error(train):56.2% \t error(val):49.6%\n",
            "epoch:32 \t Loss:0.663 \t error(train):56.2% \t error(val):49.9%\n",
            "epoch:34 \t Loss:0.676 \t error(train):56.3% \t error(val):49.9%\n",
            "epoch:36 \t Loss:0.674 \t error(train):56.0% \t error(val):49.7%\n",
            "epoch:38 \t Loss:0.677 \t error(train):56.3% \t error(val):49.9%\n",
            "epoch:40 \t Loss:0.643 \t error(train):56.2% \t error(val):49.9%\n",
            "epoch:42 \t Loss:0.665 \t error(train):56.2% \t error(val):49.9%\n",
            "epoch:44 \t Loss:0.678 \t error(train):56.2% \t error(val):49.7%\n",
            "epoch:46 \t Loss:0.660 \t error(train):56.2% \t error(val):49.8%\n",
            "epoch:48 \t Loss:0.697 \t error(train):56.2% \t error(val):49.9%\n",
            "learning rate:  0.02\n",
            "preprocessed\n",
            "epoch:0 \t Loss:1.361 \t error(train):49.4% \t error(val):50.0%\n",
            "epoch:2 \t Loss:0.723 \t error(train):52.5% \t error(val):50.2%\n",
            "epoch:4 \t Loss:0.764 \t error(train):49.9% \t error(val):49.8%\n",
            "epoch:6 \t Loss:1.187 \t error(train):50.2% \t error(val):50.1%\n",
            "epoch:8 \t Loss:0.648 \t error(train):50.6% \t error(val):50.3%\n",
            "epoch:10 \t Loss:0.592 \t error(train):56.9% \t error(val):49.6%\n",
            "epoch:12 \t Loss:0.680 \t error(train):51.4% \t error(val):50.3%\n",
            "epoch:14 \t Loss:0.659 \t error(train):57.3% \t error(val):49.8%\n",
            "epoch:16 \t Loss:0.676 \t error(train):56.3% \t error(val):49.7%\n",
            "epoch:18 \t Loss:0.687 \t error(train):55.6% \t error(val):50.3%\n",
            "epoch:20 \t Loss:0.671 \t error(train):57.6% \t error(val):49.3%\n",
            "epoch:22 \t Loss:0.642 \t error(train):56.5% \t error(val):49.9%\n",
            "epoch:24 \t Loss:0.662 \t error(train):57.8% \t error(val):49.3%\n",
            "epoch:26 \t Loss:0.672 \t error(train):57.6% \t error(val):49.4%\n",
            "epoch:28 \t Loss:0.643 \t error(train):57.9% \t error(val):49.2%\n",
            "epoch:30 \t Loss:0.681 \t error(train):57.8% \t error(val):49.5%\n",
            "epoch:32 \t Loss:0.674 \t error(train):57.4% \t error(val):50.0%\n",
            "epoch:34 \t Loss:0.641 \t error(train):57.9% \t error(val):49.2%\n",
            "epoch:36 \t Loss:0.685 \t error(train):57.8% \t error(val):49.4%\n",
            "epoch:38 \t Loss:0.689 \t error(train):57.9% \t error(val):49.3%\n",
            "epoch:40 \t Loss:0.648 \t error(train):57.9% \t error(val):49.4%\n",
            "epoch:42 \t Loss:0.641 \t error(train):57.9% \t error(val):49.4%\n",
            "epoch:44 \t Loss:0.656 \t error(train):57.9% \t error(val):49.4%\n",
            "epoch:46 \t Loss:0.611 \t error(train):57.9% \t error(val):49.2%\n",
            "epoch:48 \t Loss:0.715 \t error(train):57.9% \t error(val):49.5%\n",
            "learning rate:  0.05\n",
            "preprocessed\n",
            "epoch:0 \t Loss:3.406 \t error(train):49.4% \t error(val):50.0%\n",
            "epoch:2 \t Loss:0.608 \t error(train):51.6% \t error(val):50.3%\n",
            "epoch:4 \t Loss:1.021 \t error(train):50.3% \t error(val):50.0%\n",
            "epoch:6 \t Loss:0.635 \t error(train):52.2% \t error(val):49.9%\n",
            "epoch:8 \t Loss:0.788 \t error(train):49.5% \t error(val):49.9%\n",
            "epoch:10 \t Loss:0.761 \t error(train):54.7% \t error(val):50.0%\n",
            "epoch:12 \t Loss:0.573 \t error(train):53.1% \t error(val):49.8%\n",
            "epoch:14 \t Loss:0.723 \t error(train):57.2% \t error(val):49.8%\n",
            "epoch:16 \t Loss:0.746 \t error(train):59.0% \t error(val):50.1%\n",
            "epoch:18 \t Loss:0.722 \t error(train):59.1% \t error(val):50.1%\n",
            "epoch:20 \t Loss:0.659 \t error(train):58.0% \t error(val):49.9%\n",
            "epoch:22 \t Loss:0.651 \t error(train):59.0% \t error(val):49.8%\n",
            "epoch:24 \t Loss:0.738 \t error(train):58.6% \t error(val):50.2%\n",
            "epoch:26 \t Loss:0.624 \t error(train):59.3% \t error(val):50.4%\n",
            "epoch:28 \t Loss:0.687 \t error(train):59.4% \t error(val):50.2%\n",
            "epoch:30 \t Loss:0.702 \t error(train):59.2% \t error(val):50.0%\n",
            "epoch:32 \t Loss:0.561 \t error(train):59.6% \t error(val):50.0%\n",
            "epoch:34 \t Loss:0.700 \t error(train):58.9% \t error(val):49.8%\n",
            "epoch:36 \t Loss:0.620 \t error(train):59.5% \t error(val):50.3%\n",
            "epoch:38 \t Loss:0.609 \t error(train):59.6% \t error(val):50.0%\n",
            "epoch:40 \t Loss:0.631 \t error(train):59.4% \t error(val):50.0%\n",
            "epoch:42 \t Loss:0.671 \t error(train):59.5% \t error(val):50.1%\n",
            "epoch:44 \t Loss:0.639 \t error(train):59.5% \t error(val):50.1%\n",
            "epoch:46 \t Loss:0.620 \t error(train):59.6% \t error(val):50.1%\n",
            "epoch:48 \t Loss:0.670 \t error(train):59.6% \t error(val):50.2%\n"
          ]
        },
        {
          "output_type": "execute_result",
          "data": {
            "text/plain": [
              "Text(0.5, 1.0, 'Number of Training Samples')"
            ]
          },
          "metadata": {},
          "execution_count": 113
        },
        {
          "output_type": "display_data",
          "data": {
            "text/plain": [
              "<Figure size 432x288 with 1 Axes>"
            ],
            "image/png": "[encoded data removed]"
          },
          "metadata": {
            "needs_background": "light"
          }
        }
      ]
    },
    {
      "cell_type": "markdown",
      "source": [
        "# Trying stuff (can just delete)\n"
      ],
      "metadata": {
        "id": "pcwyUFlQYRR0"
      },
      "id": "pcwyUFlQYRR0"
    },
    {
      "cell_type": "code",
      "source": [
        "# maybe SGD sucks and we should just use backtracking on the whole dataset\n",
        "def train_backtracking_long(beta_init,X_train,Y_train,X_test,Y_test,learning_rate_init = 0.01, regularization = 0, minibatch_size = 20, n_iter = 1000, alpha = 0.5):\n",
        "    \"\"\"\n",
        "    desc:\n",
        "    ===\n",
        "    runs SGD with step decay\n",
        "    \n",
        "    returns:\n",
        "    1) Loss at the end of each epoch\n",
        "    2) Final validation accuracy\n",
        "    3) Predictions with the given test set\n",
        "    \"\"\"\n",
        "\n",
        "    N = len(X_train)  #10000, total number of images\n",
        "    img_indices = np.arange(N)\n",
        "    loss_history = []\n",
        "    learning_rate_history = []\n",
        "    beta = np.copy(beta_init)\n",
        "\n",
        "    for iter in range(n_iter):\n",
        "        if regularization == 0:\n",
        "            val, grad = loss_LR_values_and_grad(beta, X_train, Y_train)\n",
        "        elif regularization == 1:\n",
        "            val, grad = l1_loss_LR_values_and_grad(beta, X_train, Y_train)\n",
        "        elif regularization == 2:\n",
        "            val, grad = l2_loss_LR_values_and_grad(beta, X_train, Y_train)\n",
        "        \n",
        "        learning_rate = learning_rate_init\n",
        "        while loss_LR(beta - (learning_rate*grad), X_train, Y_train ) > (val + alpha*learning_rate*jnp.dot(-grad, grad)):\n",
        "            learning_rate = 0.5 * learning_rate\n",
        "\n",
        "        beta = beta - learning_rate*grad\n",
        "        learning_rate_history.append(learning_rate)\n",
        "            \n",
        "        # book-keeping\n",
        "        loss_history.append(val)\n",
        "        if iter % 10 == 0:\n",
        "            # let us compute the train/validation error rate\n",
        "            err_train = 100*compute_error_rate(beta, X_train, Y_train)\n",
        "            err_val= 100*compute_error_rate(beta, X_test, Y_test)        \n",
        "            print(f\"iter:{iter} \\t Loss:{val:2.3f} \\t error(train):{err_train:2.1f}% \\t error(val):{err_val:2.1f}%\")\n",
        "\n",
        "    err_val= 100*compute_error_rate(beta, X_test, Y_test)\n",
        "    prediction = predict(beta, X_test)\n",
        "    return loss_history, err_val, pred, learning_rate_history"
      ],
      "metadata": {
        "id": "A8xVe59nDh2Z"
      },
      "id": "A8xVe59nDh2Z",
      "execution_count": null,
      "outputs": []
    },
    {
      "cell_type": "code",
      "source": [
        "# balanced training data\n",
        "# balanced testing data\n",
        "# wtf why is our model just 50/50ing it i'm gonna try doing backtracking with ALL the data each iteration\n",
        "\n",
        "X_train, Y_train = rebalance(X_train, Y_train)\n",
        "X_test, Y_test = rebalance(X_test, Y_test)\n",
        "\n",
        "\n",
        "lst = [0.01]\n",
        "err_lst = []\n",
        "loss_lst = []\n",
        "\n",
        "for num in lst:\n",
        "    print(\"learning rate: \",num)\n",
        "    beta_init = np.random.normal(0,beta_standard_dev,100*100)\n",
        "    loss_hist, err_val, pred, learn_rate_hist = train_backtracking_long(beta_init,X_train,Y_train,X_test,Y_test, learning_rate_init = 0.1, regularization=0, n_iter = 00, alpha = 0.5)\n",
        "    err_lst.append(err_val)\n",
        "    plt.plot(loss_hist,\"-^\",label = f\"learning rate init:{num}\")\n",
        "\n",
        "plt.legend()\n",
        "plt.yscale(\"log\")\n",
        "plt.xlabel(\"Iterations\")\n",
        "plt.grid(True)\n",
        "plt.title(\"Number of Training Samples\")"
      ],
      "metadata": {
        "colab": {
          "base_uri": "https://localhost:8080/",
          "height": 503
        },
        "id": "2WdPsN2XMXWO",
        "outputId": "959b9a83-b2d8-432a-8e27-f7dcd7ced3d8"
      },
      "id": "2WdPsN2XMXWO",
      "execution_count": null,
      "outputs": [
        {
          "output_type": "stream",
          "name": "stdout",
          "text": [
            "learning rate:  0.01\n",
            "iter:0 \t Loss:0.702 \t error(train):49.8% \t error(val):49.5%\n",
            "iter:10 \t Loss:0.696 \t error(train):49.9% \t error(val):49.7%\n",
            "iter:20 \t Loss:0.694 \t error(train):50.5% \t error(val):49.8%\n",
            "iter:30 \t Loss:0.693 \t error(train):50.5% \t error(val):50.0%\n",
            "iter:40 \t Loss:0.693 \t error(train):50.6% \t error(val):49.9%\n",
            "iter:50 \t Loss:0.692 \t error(train):50.9% \t error(val):49.7%\n",
            "iter:60 \t Loss:0.692 \t error(train):51.1% \t error(val):49.9%\n",
            "iter:70 \t Loss:0.691 \t error(train):51.4% \t error(val):50.4%\n",
            "iter:80 \t Loss:0.691 \t error(train):51.6% \t error(val):50.5%\n",
            "iter:90 \t Loss:0.691 \t error(train):51.7% \t error(val):50.8%\n"
          ]
        },
        {
          "output_type": "execute_result",
          "data": {
            "text/plain": [
              "Text(0.5, 1.0, 'Number of Training Samples')"
            ]
          },
          "metadata": {},
          "execution_count": 155
        },
        {
          "output_type": "display_data",
          "data": {
            "text/plain": [
              "<Figure size 432x288 with 1 Axes>"
            ],
            "image/png": "[encoded data removed]"
          },
          "metadata": {
            "needs_background": "light"
          }
        }
      ]
    },
    {
      "cell_type": "code",
      "source": [
        "plt.plot(learn_rate_hist,\".\")\n",
        "plt.title(\"Learning Rate History\")\n",
        "#plt.yscale(\"log\")\n",
        "plt.ylabel(\"log Learning Rate\")\n",
        "plt.xlabel(\"Iterations\")"
      ],
      "metadata": {
        "colab": {
          "base_uri": "https://localhost:8080/",
          "height": 312
        },
        "id": "UfQ1NPeiSUjX",
        "outputId": "9d8e6899-b0fa-43df-ec24-df9371964c95"
      },
      "id": "UfQ1NPeiSUjX",
      "execution_count": null,
      "outputs": [
        {
          "output_type": "execute_result",
          "data": {
            "text/plain": [
              "Text(0.5, 0, 'Iterations')"
            ]
          },
          "metadata": {},
          "execution_count": 154
        },
        {
          "output_type": "display_data",
          "data": {
            "text/plain": [
              "<Figure size 432x288 with 1 Axes>"
            ],
            "image/png": "[encoded data removed]"
          },
          "metadata": {
            "needs_background": "light"
          }
        }
      ]
    }
  ],
  "metadata": {
    "kernelspec": {
      "display_name": "Python 3",
      "language": "python",
      "name": "python3"
    },
    "language_info": {
      "codemirror_mode": {
        "name": "ipython",
        "version": 3
      },
      "file_extension": ".py",
      "mimetype": "text/x-python",
      "name": "python",
      "nbconvert_exporter": "python",
      "pygments_lexer": "ipython3",
      "version": "3.8.8"
    },
    "colab": {
      "name": "Task 1 - 5.ipynb",
      "provenance": [],
      "collapsed_sections": [
        "65c65361",
        "5c2ce565",
        "9943f913",
        "ddf7f168",
        "33c78a33",
        "1988c099",
        "pcwyUFlQYRR0"
      ]
    },
    "accelerator": "GPU"
  },
  "nbformat": 4,
  "nbformat_minor": 5
}